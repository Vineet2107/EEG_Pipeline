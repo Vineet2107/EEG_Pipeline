{
 "cells": [
  {
   "cell_type": "code",
   "execution_count": 5,
   "metadata": {},
   "outputs": [],
   "source": [
    "import mne"
   ]
  },
  {
   "cell_type": "code",
   "execution_count": 6,
   "metadata": {},
   "outputs": [],
   "source": [
    "import pathlib"
   ]
  },
  {
   "cell_type": "code",
   "execution_count": 7,
   "metadata": {},
   "outputs": [],
   "source": [
    "import matplotlib"
   ]
  },
  {
   "cell_type": "code",
   "execution_count": 14,
   "metadata": {},
   "outputs": [],
   "source": [
    "matplotlib.use('Qt5Agg')"
   ]
  },
  {
   "cell_type": "code",
   "execution_count": 10,
   "metadata": {},
   "outputs": [
    {
     "name": "stderr",
     "output_type": "stream",
     "text": [
      "<ipython-input-10-49c74d3158c3>:1: RuntimeWarning: Data will be preloaded. preload=False or a string preload is not supported when the data is stored in the .set file\n",
      "  raw = mne.io.read_raw_eeglab('data/sub-AB6-20210717T050647Z-001/sub-AB6/eeg/sub-AB6_task-gonogo_run-1_eeg.set', eog=(), preload=False, uint16_codec=None, verbose=None)\n"
     ]
    }
   ],
   "source": [
    "raw = mne.io.read_raw_eeglab('data/sub-AB6-20210717T050647Z-001/sub-AB6/eeg/sub-AB6_task-gonogo_run-1_eeg.set', eog=(), preload=False, uint16_codec=None, verbose=None)"
   ]
  },
  {
   "cell_type": "code",
   "execution_count": 11,
   "metadata": {},
   "outputs": [
    {
     "data": {
      "text/plain": [
       "<RawEEGLAB | sub-AB6_task-gonogo_run-1_eeg.set, 64 x 245200 (490.4 s), ~119.8 MB, data loaded>"
      ]
     },
     "execution_count": 11,
     "metadata": {},
     "output_type": "execute_result"
    }
   ],
   "source": [
    "raw"
   ]
  },
  {
   "cell_type": "code",
   "execution_count": 15,
   "metadata": {},
   "outputs": [
    {
     "ename": "UnboundLocalError",
     "evalue": "local variable 'newpath' referenced before assignment",
     "output_type": "error",
     "traceback": [
      "\u001b[1;31m---------------------------------------------------------------------------\u001b[0m",
      "\u001b[1;31mUnboundLocalError\u001b[0m                         Traceback (most recent call last)",
      "\u001b[1;32m<ipython-input-15-4fdf85d5d68f>\u001b[0m in \u001b[0;36m<module>\u001b[1;34m\u001b[0m\n\u001b[1;32m----> 1\u001b[1;33m \u001b[0mraw\u001b[0m\u001b[1;33m.\u001b[0m\u001b[0mplot\u001b[0m\u001b[1;33m(\u001b[0m\u001b[1;33m)\u001b[0m\u001b[1;33m;\u001b[0m\u001b[1;33m\u001b[0m\u001b[1;33m\u001b[0m\u001b[0m\n\u001b[0m",
      "\u001b[1;32m~\\anaconda3\\lib\\site-packages\\mne\\io\\base.py\u001b[0m in \u001b[0;36mplot\u001b[1;34m(self, events, duration, start, n_channels, bgcolor, color, bad_color, event_color, scalings, remove_dc, order, show_options, title, show, block, highpass, lowpass, filtorder, clipping, show_first_samp, proj, group_by, butterfly, decim, noise_cov, event_id, show_scrollbars, show_scalebars, verbose)\u001b[0m\n\u001b[0;32m   1435\u001b[0m                         \u001b[0mgroup_by\u001b[0m\u001b[1;33m,\u001b[0m \u001b[0mbutterfly\u001b[0m\u001b[1;33m,\u001b[0m \u001b[0mdecim\u001b[0m\u001b[1;33m,\u001b[0m \u001b[0mnoise_cov\u001b[0m\u001b[1;33m=\u001b[0m\u001b[0mnoise_cov\u001b[0m\u001b[1;33m,\u001b[0m\u001b[1;33m\u001b[0m\u001b[1;33m\u001b[0m\u001b[0m\n\u001b[0;32m   1436\u001b[0m                         \u001b[0mevent_id\u001b[0m\u001b[1;33m=\u001b[0m\u001b[0mevent_id\u001b[0m\u001b[1;33m,\u001b[0m \u001b[0mshow_scrollbars\u001b[0m\u001b[1;33m=\u001b[0m\u001b[0mshow_scrollbars\u001b[0m\u001b[1;33m,\u001b[0m\u001b[1;33m\u001b[0m\u001b[1;33m\u001b[0m\u001b[0m\n\u001b[1;32m-> 1437\u001b[1;33m                         show_scalebars=show_scalebars, verbose=verbose)\n\u001b[0m\u001b[0;32m   1438\u001b[0m \u001b[1;33m\u001b[0m\u001b[0m\n\u001b[0;32m   1439\u001b[0m     \u001b[1;33m@\u001b[0m\u001b[0mverbose\u001b[0m\u001b[1;33m\u001b[0m\u001b[1;33m\u001b[0m\u001b[0m\n",
      "\u001b[1;32m<decorator-gen-150>\u001b[0m in \u001b[0;36mplot_raw\u001b[1;34m(raw, events, duration, start, n_channels, bgcolor, color, bad_color, event_color, scalings, remove_dc, order, show_options, title, show, block, highpass, lowpass, filtorder, clipping, show_first_samp, proj, group_by, butterfly, decim, noise_cov, event_id, show_scrollbars, show_scalebars, verbose)\u001b[0m\n",
      "\u001b[1;32m~\\anaconda3\\lib\\site-packages\\mne\\viz\\raw.py\u001b[0m in \u001b[0;36mplot_raw\u001b[1;34m(raw, events, duration, start, n_channels, bgcolor, color, bad_color, event_color, scalings, remove_dc, order, show_options, title, show, block, highpass, lowpass, filtorder, clipping, show_first_samp, proj, group_by, butterfly, decim, noise_cov, event_id, show_scrollbars, show_scalebars, verbose)\u001b[0m\n\u001b[0;32m    291\u001b[0m             \u001b[0mtitle\u001b[0m \u001b[1;33m=\u001b[0m \u001b[1;34mf'{title}{extra}'\u001b[0m\u001b[1;33m\u001b[0m\u001b[1;33m\u001b[0m\u001b[0m\n\u001b[0;32m    292\u001b[0m             \u001b[1;32mif\u001b[0m \u001b[0mlen\u001b[0m\u001b[1;33m(\u001b[0m\u001b[0mtitle\u001b[0m\u001b[1;33m)\u001b[0m \u001b[1;33m>\u001b[0m \u001b[1;36m60\u001b[0m\u001b[1;33m:\u001b[0m\u001b[1;33m\u001b[0m\u001b[1;33m\u001b[0m\u001b[0m\n\u001b[1;32m--> 293\u001b[1;33m                 \u001b[0mtitle\u001b[0m \u001b[1;33m=\u001b[0m \u001b[0m_shorten_path_from_middle\u001b[0m\u001b[1;33m(\u001b[0m\u001b[0mtitle\u001b[0m\u001b[1;33m)\u001b[0m\u001b[1;33m\u001b[0m\u001b[1;33m\u001b[0m\u001b[0m\n\u001b[0m\u001b[0;32m    294\u001b[0m     \u001b[1;32melif\u001b[0m \u001b[1;32mnot\u001b[0m \u001b[0misinstance\u001b[0m\u001b[1;33m(\u001b[0m\u001b[0mtitle\u001b[0m\u001b[1;33m,\u001b[0m \u001b[0mstr\u001b[0m\u001b[1;33m)\u001b[0m\u001b[1;33m:\u001b[0m\u001b[1;33m\u001b[0m\u001b[1;33m\u001b[0m\u001b[0m\n\u001b[0;32m    295\u001b[0m         \u001b[1;32mraise\u001b[0m \u001b[0mTypeError\u001b[0m\u001b[1;33m(\u001b[0m\u001b[1;34mf'title must be None or a string, got a {type(title)}'\u001b[0m\u001b[1;33m)\u001b[0m\u001b[1;33m\u001b[0m\u001b[1;33m\u001b[0m\u001b[0m\n",
      "\u001b[1;32m~\\anaconda3\\lib\\site-packages\\mne\\viz\\utils.py\u001b[0m in \u001b[0;36m_shorten_path_from_middle\u001b[1;34m(fpath, max_len, replacement)\u001b[0m\n\u001b[0;32m   2233\u001b[0m             \u001b[1;32mif\u001b[0m \u001b[0mlen\u001b[0m\u001b[1;33m(\u001b[0m\u001b[0mnewpath\u001b[0m\u001b[1;33m)\u001b[0m \u001b[1;33m<\u001b[0m \u001b[0mmax_len\u001b[0m\u001b[1;33m:\u001b[0m\u001b[1;33m\u001b[0m\u001b[1;33m\u001b[0m\u001b[0m\n\u001b[0;32m   2234\u001b[0m                 \u001b[1;32mbreak\u001b[0m\u001b[1;33m\u001b[0m\u001b[1;33m\u001b[0m\u001b[0m\n\u001b[1;32m-> 2235\u001b[1;33m         \u001b[1;32mreturn\u001b[0m \u001b[0mnewpath\u001b[0m\u001b[1;33m\u001b[0m\u001b[1;33m\u001b[0m\u001b[0m\n\u001b[0m\u001b[0;32m   2236\u001b[0m     \u001b[1;32mreturn\u001b[0m \u001b[0mfpath\u001b[0m\u001b[1;33m\u001b[0m\u001b[1;33m\u001b[0m\u001b[0m\n\u001b[0;32m   2237\u001b[0m \u001b[1;33m\u001b[0m\u001b[0m\n",
      "\u001b[1;31mUnboundLocalError\u001b[0m: local variable 'newpath' referenced before assignment"
     ]
    }
   ],
   "source": [
    "#raw.plot();"
   ]
  },
  {
   "cell_type": "code",
   "execution_count": null,
   "metadata": {},
   "outputs": [],
   "source": []
  },
  {
   "cell_type": "code",
   "execution_count": 13,
   "metadata": {},
   "outputs": [],
   "source": [
    "raw.plot_sensors(ch_type = 'eeg', sphere = 10);"
   ]
  },
  {
   "cell_type": "code",
   "execution_count": 85,
   "metadata": {
    "jupyter": {
     "source_hidden": true
    }
   },
   "outputs": [],
   "source": [
    "#import pandas as pd\n",
    "#electrodes = pd.read_csv(\"sub-AB8/eeg/sub-AB8_task-gonogo_run-2_electrodes.tsv\", delimiter = \"\\t\")\n",
    "#electrodes['x'] = electrodes['x']*10\n",
    "#electrodes['y'] = electrodes['y']*100\n",
    "#electrodes['z'] = electrodes['z']*100\n",
    "#electrodes.to_csv(\"sub-AB8/eeg/sub-AB8_task-gonogo_run-2_electrodes.tsv\", sep = \"\\t\")"
   ]
  },
  {
   "cell_type": "code",
   "execution_count": 16,
   "metadata": {},
   "outputs": [
    {
     "data": {
      "text/plain": [
       "<RawEEGLAB | sub-AB6_task-gonogo_run-1_eeg.set, 64 x 245200 (490.4 s), ~119.8 MB, data loaded>"
      ]
     },
     "execution_count": 16,
     "metadata": {},
     "output_type": "execute_result"
    }
   ],
   "source": [
    "raw"
   ]
  },
  {
   "cell_type": "code",
   "execution_count": 17,
   "metadata": {},
   "outputs": [
    {
     "name": "stdout",
     "output_type": "stream",
     "text": [
      "Used Annotations descriptions: ['1', '10', '2', '4', '5', '9']\n"
     ]
    }
   ],
   "source": [
    "events = mne.events_from_annotations(raw)"
   ]
  },
  {
   "cell_type": "code",
   "execution_count": 27,
   "metadata": {},
   "outputs": [],
   "source": [
    "event_id = {\n",
    "    'Auditory/Left':1,\n",
    "    'Auditory/Right':10,\n",
    "    'Visual/Left':2,\n",
    "    'Visual/Right':4,\n",
    "    'Smiley':5,\n",
    "    'Button':9\n",
    "}"
   ]
  },
  {
   "cell_type": "code",
   "execution_count": 28,
   "metadata": {},
   "outputs": [
    {
     "data": {
      "text/plain": [
       "(array([[   979,      0,      6],\n",
       "        [  3641,      0,      1],\n",
       "        [  4532,      0,      3],\n",
       "        [  4704,      0,      5],\n",
       "        [  7453,      0,      1],\n",
       "        [  8513,      0,      3],\n",
       "        [  8663,      0,      5],\n",
       "        [ 11543,      0,      1],\n",
       "        [ 12343,      0,      3],\n",
       "        [ 12591,      0,      5],\n",
       "        [ 15345,      0,      1],\n",
       "        [ 18813,      0,      1],\n",
       "        [ 19633,      0,      4],\n",
       "        [ 23225,      0,      1],\n",
       "        [ 24115,      0,      3],\n",
       "        [ 24247,      0,      5],\n",
       "        [ 27218,      0,      1],\n",
       "        [ 28398,      0,      3],\n",
       "        [ 28535,      0,      5],\n",
       "        [ 31128,      0,      1],\n",
       "        [ 32140,      0,      3],\n",
       "        [ 32303,      0,      5],\n",
       "        [ 35018,      0,      1],\n",
       "        [ 35795,      0,      4],\n",
       "        [ 38740,      0,      1],\n",
       "        [ 42175,      0,      1],\n",
       "        [ 42953,      0,      3],\n",
       "        [ 43095,      0,      5],\n",
       "        [ 45823,      0,      1],\n",
       "        [ 46950,      0,      3],\n",
       "        [ 47159,      0,      5],\n",
       "        [ 49585,      0,      1],\n",
       "        [ 50365,      0,      3],\n",
       "        [ 50527,      0,      5],\n",
       "        [ 53235,      0,      1],\n",
       "        [ 54068,      0,      3],\n",
       "        [ 54199,      0,      5],\n",
       "        [ 57133,      0,      1],\n",
       "        [ 57935,      0,      3],\n",
       "        [ 58071,      0,      5],\n",
       "        [ 61125,      0,      1],\n",
       "        [ 62003,      0,      4],\n",
       "        [ 65300,      0,      1],\n",
       "        [ 66095,      0,      3],\n",
       "        [ 66231,      0,      5],\n",
       "        [ 69533,      0,      1],\n",
       "        [ 72980,      0,      1],\n",
       "        [ 73998,      0,      3],\n",
       "        [ 74159,      0,      5],\n",
       "        [ 76675,      0,      1],\n",
       "        [ 77485,      0,      3],\n",
       "        [ 77623,      0,      5],\n",
       "        [ 80158,      0,      1],\n",
       "        [ 80943,      0,      3],\n",
       "        [ 81087,      0,      5],\n",
       "        [ 85653,      0,      1],\n",
       "        [ 89790,      0,      1],\n",
       "        [ 90553,      0,      4],\n",
       "        [ 93835,      0,      1],\n",
       "        [ 94613,      0,      3],\n",
       "        [ 94759,      0,      5],\n",
       "        [ 98723,      0,      1],\n",
       "        [ 99780,      0,      3],\n",
       "        [ 99935,      0,      5],\n",
       "        [102968,      0,      1],\n",
       "        [103940,      0,      3],\n",
       "        [104079,      0,      5],\n",
       "        [107468,      0,      1],\n",
       "        [111610,      0,      1],\n",
       "        [112455,      0,      4],\n",
       "        [115185,      0,      1],\n",
       "        [116093,      0,      3],\n",
       "        [116223,      0,      5],\n",
       "        [118735,      0,      1],\n",
       "        [119553,      0,      3],\n",
       "        [119695,      0,      5],\n",
       "        [122978,      0,      1],\n",
       "        [123955,      0,      3],\n",
       "        [124095,      0,      5],\n",
       "        [126580,      0,      1],\n",
       "        [127440,      0,      3],\n",
       "        [127583,      0,      5],\n",
       "        [130208,      0,      1],\n",
       "        [133670,      0,      1],\n",
       "        [134640,      0,      3],\n",
       "        [134839,      0,      5],\n",
       "        [137310,      0,      1],\n",
       "        [138363,      0,      4],\n",
       "        [142215,      0,      1],\n",
       "        [143055,      0,      3],\n",
       "        [143167,      0,      5],\n",
       "        [146153,      0,      1],\n",
       "        [146913,      0,      3],\n",
       "        [147055,      0,      5],\n",
       "        [149886,      0,      1],\n",
       "        [150653,      0,      3],\n",
       "        [150775,      0,      5],\n",
       "        [153293,      0,      1],\n",
       "        [154255,      0,      3],\n",
       "        [154367,      0,      5],\n",
       "        [157603,      0,      1],\n",
       "        [161498,      0,      1],\n",
       "        [162320,      0,      3],\n",
       "        [162447,      0,      5],\n",
       "        [165903,      0,      1],\n",
       "        [166786,      0,      4],\n",
       "        [169450,      0,      1],\n",
       "        [170288,      0,      3],\n",
       "        [170415,      0,      5],\n",
       "        [173690,      0,      1],\n",
       "        [174623,      0,      3],\n",
       "        [174767,      0,      5],\n",
       "        [177320,      0,      1],\n",
       "        [178098,      0,      4],\n",
       "        [181250,      0,      1],\n",
       "        [184813,      0,      1],\n",
       "        [185730,      0,      3],\n",
       "        [185871,      0,      5],\n",
       "        [188593,      0,      1],\n",
       "        [189663,      0,      3],\n",
       "        [189855,      0,      5],\n",
       "        [192743,      0,      1],\n",
       "        [193733,      0,      3],\n",
       "        [193863,      0,      5],\n",
       "        [196446,      0,      1],\n",
       "        [197320,      0,      3],\n",
       "        [197455,      0,      5],\n",
       "        [200500,      0,      1],\n",
       "        [201368,      0,      4],\n",
       "        [204748,      0,      1],\n",
       "        [205575,      0,      3],\n",
       "        [205743,      0,      5],\n",
       "        [208288,      0,      1],\n",
       "        [211818,      0,      1],\n",
       "        [212638,      0,      3],\n",
       "        [212759,      0,      5],\n",
       "        [215520,      0,      1],\n",
       "        [216318,      0,      3],\n",
       "        [216439,      0,      5],\n",
       "        [219308,      0,      1],\n",
       "        [220070,      0,      3],\n",
       "        [220191,      0,      5],\n",
       "        [223430,      0,      1],\n",
       "        [224215,      0,      4],\n",
       "        [226915,      0,      1],\n",
       "        [228010,      0,      3],\n",
       "        [228159,      0,      5],\n",
       "        [230868,      0,      1],\n",
       "        [231643,      0,      3],\n",
       "        [231767,      0,      5],\n",
       "        [234328,      0,      1],\n",
       "        [242821,      0,      2]]),\n",
       " {'1': 1, '10': 2, '2': 3, '4': 4, '5': 5, '9': 6})"
      ]
     },
     "execution_count": 28,
     "metadata": {},
     "output_type": "execute_result"
    }
   ],
   "source": [
    "events"
   ]
  },
  {
   "cell_type": "code",
   "execution_count": 32,
   "metadata": {},
   "outputs": [],
   "source": [
    "raw.plot_sensors(ch_type = 'eeg', kind = '3d', sphere = 10);"
   ]
  },
  {
   "cell_type": "code",
   "execution_count": 33,
   "metadata": {},
   "outputs": [
    {
     "data": {
      "text/plain": [
       "<Info | 8 non-empty values\n",
       " bads: []\n",
       " ch_names: AF3, AF4, F7, F5, F3, F1, Fz, F2, F4, F6, F8, FT7, FC5, FC3, ...\n",
       " chs: 64 EEG\n",
       " custom_ref_applied: False\n",
       " dig: 64 items (64 EEG)\n",
       " highpass: 0.0 Hz\n",
       " lowpass: 250.0 Hz\n",
       " meas_date: unspecified\n",
       " nchan: 64\n",
       " projs: []\n",
       " sfreq: 500.0 Hz\n",
       ">"
      ]
     },
     "execution_count": 33,
     "metadata": {},
     "output_type": "execute_result"
    }
   ],
   "source": [
    "raw.info"
   ]
  },
  {
   "cell_type": "code",
   "execution_count": 34,
   "metadata": {},
   "outputs": [],
   "source": [
    "#ten_twenty_montage = mne.channels.make_standard_montage('standard_1020')\n",
    "#raw_1020 = raw.copy().set_montage(ten_twenty_montage)"
   ]
  },
  {
   "cell_type": "code",
   "execution_count": 35,
   "metadata": {},
   "outputs": [],
   "source": [
    "#fig = ten_twenty_montage.plot(kind='3d')\n",
    "#fig.gca().view_init(azim=70, elev=15)\n",
    "#ten_twenty_montage.plot(kind='topomap', show_names=False)"
   ]
  },
  {
   "cell_type": "code",
   "execution_count": 36,
   "metadata": {},
   "outputs": [],
   "source": [
    "#raw.filter(1, 20)  #filter frequecies out of (1, 20) range"
   ]
  },
  {
   "cell_type": "code",
   "execution_count": 37,
   "metadata": {},
   "outputs": [],
   "source": [
    "ica = mne.preprocessing.ICA(n_components = 20, random_state = 0)"
   ]
  },
  {
   "cell_type": "code",
   "execution_count": 38,
   "metadata": {},
   "outputs": [
    {
     "name": "stdout",
     "output_type": "stream",
     "text": [
      "Filtering raw data in 1 contiguous segment\n",
      "Setting up band-pass filter from 8 - 35 Hz\n",
      "\n",
      "FIR filter parameters\n",
      "---------------------\n",
      "Designing a one-pass, zero-phase, non-causal bandpass filter:\n",
      "- Windowed time-domain design (firwin) method\n",
      "- Hamming window with 0.0194 passband ripple and 53 dB stopband attenuation\n",
      "- Lower passband edge: 8.00\n",
      "- Lower transition bandwidth: 2.00 Hz (-6 dB cutoff frequency: 7.00 Hz)\n",
      "- Upper passband edge: 35.00 Hz\n",
      "- Upper transition bandwidth: 8.75 Hz (-6 dB cutoff frequency: 39.38 Hz)\n",
      "- Filter length: 825 samples (1.650 sec)\n",
      "\n",
      "Fitting ICA to data using 64 channels (please be patient, this may take a while)\n",
      "Selecting by number: 20 components\n",
      "Fitting ICA took 7.5s.\n"
     ]
    },
    {
     "data": {
      "text/plain": [
       "<ICA | raw data decomposition, fit (fastica): 245200 samples, 20 components, channels used: \"eeg\">"
      ]
     },
     "execution_count": 38,
     "metadata": {},
     "output_type": "execute_result"
    }
   ],
   "source": [
    "ica.fit(raw.copy().filter(8, 35))"
   ]
  },
  {
   "cell_type": "code",
   "execution_count": 39,
   "metadata": {},
   "outputs": [
    {
     "data": {
      "text/plain": [
       "[<MNEFigure size 1924x1014 with 20 Axes>]"
      ]
     },
     "execution_count": 39,
     "metadata": {},
     "output_type": "execute_result"
    }
   ],
   "source": [
    "ica.plot_components(outlines = 'head', sphere = 10)"
   ]
  },
  {
   "cell_type": "code",
   "execution_count": 40,
   "metadata": {},
   "outputs": [],
   "source": [
    "ica.exclude = [1, 5, 9]"
   ]
  },
  {
   "cell_type": "code",
   "execution_count": 41,
   "metadata": {},
   "outputs": [
    {
     "name": "stdout",
     "output_type": "stream",
     "text": [
      "Filtering raw data in 1 contiguous segment\n",
      "Setting up band-pass filter from 1 - 50 Hz\n",
      "\n",
      "FIR filter parameters\n",
      "---------------------\n",
      "Designing a one-pass, zero-phase, non-causal bandpass filter:\n",
      "- Windowed time-domain design (firwin) method\n",
      "- Hamming window with 0.0194 passband ripple and 53 dB stopband attenuation\n",
      "- Lower passband edge: 1.00\n",
      "- Lower transition bandwidth: 1.00 Hz (-6 dB cutoff frequency: 0.50 Hz)\n",
      "- Upper passband edge: 50.00 Hz\n",
      "- Upper transition bandwidth: 12.50 Hz (-6 dB cutoff frequency: 56.25 Hz)\n",
      "- Filter length: 1651 samples (3.302 sec)\n",
      "\n",
      "Applying ICA to Raw instance\n",
      "    Transforming to ICA space (20 components)\n",
      "    Zeroing out 3 ICA components\n",
      "    Projecting back using 64 PCA components\n"
     ]
    },
    {
     "ename": "UnboundLocalError",
     "evalue": "local variable 'newpath' referenced before assignment",
     "output_type": "error",
     "traceback": [
      "\u001b[1;31m---------------------------------------------------------------------------\u001b[0m",
      "\u001b[1;31mUnboundLocalError\u001b[0m                         Traceback (most recent call last)",
      "\u001b[1;32m<ipython-input-41-c1adb09d5c91>\u001b[0m in \u001b[0;36m<module>\u001b[1;34m\u001b[0m\n\u001b[0;32m      1\u001b[0m \u001b[0mraw_m\u001b[0m \u001b[1;33m=\u001b[0m \u001b[0mica\u001b[0m\u001b[1;33m.\u001b[0m\u001b[0mapply\u001b[0m\u001b[1;33m(\u001b[0m\u001b[0mraw\u001b[0m\u001b[1;33m.\u001b[0m\u001b[0mcopy\u001b[0m\u001b[1;33m(\u001b[0m\u001b[1;33m)\u001b[0m\u001b[1;33m.\u001b[0m\u001b[0mfilter\u001b[0m\u001b[1;33m(\u001b[0m\u001b[1;36m1\u001b[0m\u001b[1;33m,\u001b[0m \u001b[1;36m50\u001b[0m\u001b[1;33m)\u001b[0m\u001b[1;33m,\u001b[0m \u001b[0mexclude\u001b[0m \u001b[1;33m=\u001b[0m \u001b[0mica\u001b[0m\u001b[1;33m.\u001b[0m\u001b[0mexclude\u001b[0m\u001b[1;33m)\u001b[0m\u001b[1;33m\u001b[0m\u001b[1;33m\u001b[0m\u001b[0m\n\u001b[1;32m----> 2\u001b[1;33m \u001b[0mraw_m\u001b[0m\u001b[1;33m.\u001b[0m\u001b[0mplot\u001b[0m\u001b[1;33m(\u001b[0m\u001b[1;33m)\u001b[0m\u001b[1;33m;\u001b[0m\u001b[1;33m\u001b[0m\u001b[1;33m\u001b[0m\u001b[0m\n\u001b[0m",
      "\u001b[1;32m~\\anaconda3\\lib\\site-packages\\mne\\io\\base.py\u001b[0m in \u001b[0;36mplot\u001b[1;34m(self, events, duration, start, n_channels, bgcolor, color, bad_color, event_color, scalings, remove_dc, order, show_options, title, show, block, highpass, lowpass, filtorder, clipping, show_first_samp, proj, group_by, butterfly, decim, noise_cov, event_id, show_scrollbars, show_scalebars, verbose)\u001b[0m\n\u001b[0;32m   1435\u001b[0m                         \u001b[0mgroup_by\u001b[0m\u001b[1;33m,\u001b[0m \u001b[0mbutterfly\u001b[0m\u001b[1;33m,\u001b[0m \u001b[0mdecim\u001b[0m\u001b[1;33m,\u001b[0m \u001b[0mnoise_cov\u001b[0m\u001b[1;33m=\u001b[0m\u001b[0mnoise_cov\u001b[0m\u001b[1;33m,\u001b[0m\u001b[1;33m\u001b[0m\u001b[1;33m\u001b[0m\u001b[0m\n\u001b[0;32m   1436\u001b[0m                         \u001b[0mevent_id\u001b[0m\u001b[1;33m=\u001b[0m\u001b[0mevent_id\u001b[0m\u001b[1;33m,\u001b[0m \u001b[0mshow_scrollbars\u001b[0m\u001b[1;33m=\u001b[0m\u001b[0mshow_scrollbars\u001b[0m\u001b[1;33m,\u001b[0m\u001b[1;33m\u001b[0m\u001b[1;33m\u001b[0m\u001b[0m\n\u001b[1;32m-> 1437\u001b[1;33m                         show_scalebars=show_scalebars, verbose=verbose)\n\u001b[0m\u001b[0;32m   1438\u001b[0m \u001b[1;33m\u001b[0m\u001b[0m\n\u001b[0;32m   1439\u001b[0m     \u001b[1;33m@\u001b[0m\u001b[0mverbose\u001b[0m\u001b[1;33m\u001b[0m\u001b[1;33m\u001b[0m\u001b[0m\n",
      "\u001b[1;32m<decorator-gen-150>\u001b[0m in \u001b[0;36mplot_raw\u001b[1;34m(raw, events, duration, start, n_channels, bgcolor, color, bad_color, event_color, scalings, remove_dc, order, show_options, title, show, block, highpass, lowpass, filtorder, clipping, show_first_samp, proj, group_by, butterfly, decim, noise_cov, event_id, show_scrollbars, show_scalebars, verbose)\u001b[0m\n",
      "\u001b[1;32m~\\anaconda3\\lib\\site-packages\\mne\\viz\\raw.py\u001b[0m in \u001b[0;36mplot_raw\u001b[1;34m(raw, events, duration, start, n_channels, bgcolor, color, bad_color, event_color, scalings, remove_dc, order, show_options, title, show, block, highpass, lowpass, filtorder, clipping, show_first_samp, proj, group_by, butterfly, decim, noise_cov, event_id, show_scrollbars, show_scalebars, verbose)\u001b[0m\n\u001b[0;32m    291\u001b[0m             \u001b[0mtitle\u001b[0m \u001b[1;33m=\u001b[0m \u001b[1;34mf'{title}{extra}'\u001b[0m\u001b[1;33m\u001b[0m\u001b[1;33m\u001b[0m\u001b[0m\n\u001b[0;32m    292\u001b[0m             \u001b[1;32mif\u001b[0m \u001b[0mlen\u001b[0m\u001b[1;33m(\u001b[0m\u001b[0mtitle\u001b[0m\u001b[1;33m)\u001b[0m \u001b[1;33m>\u001b[0m \u001b[1;36m60\u001b[0m\u001b[1;33m:\u001b[0m\u001b[1;33m\u001b[0m\u001b[1;33m\u001b[0m\u001b[0m\n\u001b[1;32m--> 293\u001b[1;33m                 \u001b[0mtitle\u001b[0m \u001b[1;33m=\u001b[0m \u001b[0m_shorten_path_from_middle\u001b[0m\u001b[1;33m(\u001b[0m\u001b[0mtitle\u001b[0m\u001b[1;33m)\u001b[0m\u001b[1;33m\u001b[0m\u001b[1;33m\u001b[0m\u001b[0m\n\u001b[0m\u001b[0;32m    294\u001b[0m     \u001b[1;32melif\u001b[0m \u001b[1;32mnot\u001b[0m \u001b[0misinstance\u001b[0m\u001b[1;33m(\u001b[0m\u001b[0mtitle\u001b[0m\u001b[1;33m,\u001b[0m \u001b[0mstr\u001b[0m\u001b[1;33m)\u001b[0m\u001b[1;33m:\u001b[0m\u001b[1;33m\u001b[0m\u001b[1;33m\u001b[0m\u001b[0m\n\u001b[0;32m    295\u001b[0m         \u001b[1;32mraise\u001b[0m \u001b[0mTypeError\u001b[0m\u001b[1;33m(\u001b[0m\u001b[1;34mf'title must be None or a string, got a {type(title)}'\u001b[0m\u001b[1;33m)\u001b[0m\u001b[1;33m\u001b[0m\u001b[1;33m\u001b[0m\u001b[0m\n",
      "\u001b[1;32m~\\anaconda3\\lib\\site-packages\\mne\\viz\\utils.py\u001b[0m in \u001b[0;36m_shorten_path_from_middle\u001b[1;34m(fpath, max_len, replacement)\u001b[0m\n\u001b[0;32m   2233\u001b[0m             \u001b[1;32mif\u001b[0m \u001b[0mlen\u001b[0m\u001b[1;33m(\u001b[0m\u001b[0mnewpath\u001b[0m\u001b[1;33m)\u001b[0m \u001b[1;33m<\u001b[0m \u001b[0mmax_len\u001b[0m\u001b[1;33m:\u001b[0m\u001b[1;33m\u001b[0m\u001b[1;33m\u001b[0m\u001b[0m\n\u001b[0;32m   2234\u001b[0m                 \u001b[1;32mbreak\u001b[0m\u001b[1;33m\u001b[0m\u001b[1;33m\u001b[0m\u001b[0m\n\u001b[1;32m-> 2235\u001b[1;33m         \u001b[1;32mreturn\u001b[0m \u001b[0mnewpath\u001b[0m\u001b[1;33m\u001b[0m\u001b[1;33m\u001b[0m\u001b[0m\n\u001b[0m\u001b[0;32m   2236\u001b[0m     \u001b[1;32mreturn\u001b[0m \u001b[0mfpath\u001b[0m\u001b[1;33m\u001b[0m\u001b[1;33m\u001b[0m\u001b[0m\n\u001b[0;32m   2237\u001b[0m \u001b[1;33m\u001b[0m\u001b[0m\n",
      "\u001b[1;31mUnboundLocalError\u001b[0m: local variable 'newpath' referenced before assignment"
     ]
    }
   ],
   "source": [
    "raw_m = ica.apply(raw.copy().filter(1, 50), exclude = ica.exclude)\n",
    "raw_m.plot();"
   ]
  },
  {
   "cell_type": "code",
   "execution_count": 43,
   "metadata": {},
   "outputs": [
    {
     "ename": "UnboundLocalError",
     "evalue": "local variable 'newpath' referenced before assignment",
     "output_type": "error",
     "traceback": [
      "\u001b[1;31m---------------------------------------------------------------------------\u001b[0m",
      "\u001b[1;31mUnboundLocalError\u001b[0m                         Traceback (most recent call last)",
      "\u001b[1;32m<ipython-input-43-4fdf85d5d68f>\u001b[0m in \u001b[0;36m<module>\u001b[1;34m\u001b[0m\n\u001b[1;32m----> 1\u001b[1;33m \u001b[0mraw\u001b[0m\u001b[1;33m.\u001b[0m\u001b[0mplot\u001b[0m\u001b[1;33m(\u001b[0m\u001b[1;33m)\u001b[0m\u001b[1;33m;\u001b[0m\u001b[1;33m\u001b[0m\u001b[1;33m\u001b[0m\u001b[0m\n\u001b[0m",
      "\u001b[1;32m~\\anaconda3\\lib\\site-packages\\mne\\io\\base.py\u001b[0m in \u001b[0;36mplot\u001b[1;34m(self, events, duration, start, n_channels, bgcolor, color, bad_color, event_color, scalings, remove_dc, order, show_options, title, show, block, highpass, lowpass, filtorder, clipping, show_first_samp, proj, group_by, butterfly, decim, noise_cov, event_id, show_scrollbars, show_scalebars, verbose)\u001b[0m\n\u001b[0;32m   1435\u001b[0m                         \u001b[0mgroup_by\u001b[0m\u001b[1;33m,\u001b[0m \u001b[0mbutterfly\u001b[0m\u001b[1;33m,\u001b[0m \u001b[0mdecim\u001b[0m\u001b[1;33m,\u001b[0m \u001b[0mnoise_cov\u001b[0m\u001b[1;33m=\u001b[0m\u001b[0mnoise_cov\u001b[0m\u001b[1;33m,\u001b[0m\u001b[1;33m\u001b[0m\u001b[1;33m\u001b[0m\u001b[0m\n\u001b[0;32m   1436\u001b[0m                         \u001b[0mevent_id\u001b[0m\u001b[1;33m=\u001b[0m\u001b[0mevent_id\u001b[0m\u001b[1;33m,\u001b[0m \u001b[0mshow_scrollbars\u001b[0m\u001b[1;33m=\u001b[0m\u001b[0mshow_scrollbars\u001b[0m\u001b[1;33m,\u001b[0m\u001b[1;33m\u001b[0m\u001b[1;33m\u001b[0m\u001b[0m\n\u001b[1;32m-> 1437\u001b[1;33m                         show_scalebars=show_scalebars, verbose=verbose)\n\u001b[0m\u001b[0;32m   1438\u001b[0m \u001b[1;33m\u001b[0m\u001b[0m\n\u001b[0;32m   1439\u001b[0m     \u001b[1;33m@\u001b[0m\u001b[0mverbose\u001b[0m\u001b[1;33m\u001b[0m\u001b[1;33m\u001b[0m\u001b[0m\n",
      "\u001b[1;32m<decorator-gen-150>\u001b[0m in \u001b[0;36mplot_raw\u001b[1;34m(raw, events, duration, start, n_channels, bgcolor, color, bad_color, event_color, scalings, remove_dc, order, show_options, title, show, block, highpass, lowpass, filtorder, clipping, show_first_samp, proj, group_by, butterfly, decim, noise_cov, event_id, show_scrollbars, show_scalebars, verbose)\u001b[0m\n",
      "\u001b[1;32m~\\anaconda3\\lib\\site-packages\\mne\\viz\\raw.py\u001b[0m in \u001b[0;36mplot_raw\u001b[1;34m(raw, events, duration, start, n_channels, bgcolor, color, bad_color, event_color, scalings, remove_dc, order, show_options, title, show, block, highpass, lowpass, filtorder, clipping, show_first_samp, proj, group_by, butterfly, decim, noise_cov, event_id, show_scrollbars, show_scalebars, verbose)\u001b[0m\n\u001b[0;32m    291\u001b[0m             \u001b[0mtitle\u001b[0m \u001b[1;33m=\u001b[0m \u001b[1;34mf'{title}{extra}'\u001b[0m\u001b[1;33m\u001b[0m\u001b[1;33m\u001b[0m\u001b[0m\n\u001b[0;32m    292\u001b[0m             \u001b[1;32mif\u001b[0m \u001b[0mlen\u001b[0m\u001b[1;33m(\u001b[0m\u001b[0mtitle\u001b[0m\u001b[1;33m)\u001b[0m \u001b[1;33m>\u001b[0m \u001b[1;36m60\u001b[0m\u001b[1;33m:\u001b[0m\u001b[1;33m\u001b[0m\u001b[1;33m\u001b[0m\u001b[0m\n\u001b[1;32m--> 293\u001b[1;33m                 \u001b[0mtitle\u001b[0m \u001b[1;33m=\u001b[0m \u001b[0m_shorten_path_from_middle\u001b[0m\u001b[1;33m(\u001b[0m\u001b[0mtitle\u001b[0m\u001b[1;33m)\u001b[0m\u001b[1;33m\u001b[0m\u001b[1;33m\u001b[0m\u001b[0m\n\u001b[0m\u001b[0;32m    294\u001b[0m     \u001b[1;32melif\u001b[0m \u001b[1;32mnot\u001b[0m \u001b[0misinstance\u001b[0m\u001b[1;33m(\u001b[0m\u001b[0mtitle\u001b[0m\u001b[1;33m,\u001b[0m \u001b[0mstr\u001b[0m\u001b[1;33m)\u001b[0m\u001b[1;33m:\u001b[0m\u001b[1;33m\u001b[0m\u001b[1;33m\u001b[0m\u001b[0m\n\u001b[0;32m    295\u001b[0m         \u001b[1;32mraise\u001b[0m \u001b[0mTypeError\u001b[0m\u001b[1;33m(\u001b[0m\u001b[1;34mf'title must be None or a string, got a {type(title)}'\u001b[0m\u001b[1;33m)\u001b[0m\u001b[1;33m\u001b[0m\u001b[1;33m\u001b[0m\u001b[0m\n",
      "\u001b[1;32m~\\anaconda3\\lib\\site-packages\\mne\\viz\\utils.py\u001b[0m in \u001b[0;36m_shorten_path_from_middle\u001b[1;34m(fpath, max_len, replacement)\u001b[0m\n\u001b[0;32m   2233\u001b[0m             \u001b[1;32mif\u001b[0m \u001b[0mlen\u001b[0m\u001b[1;33m(\u001b[0m\u001b[0mnewpath\u001b[0m\u001b[1;33m)\u001b[0m \u001b[1;33m<\u001b[0m \u001b[0mmax_len\u001b[0m\u001b[1;33m:\u001b[0m\u001b[1;33m\u001b[0m\u001b[1;33m\u001b[0m\u001b[0m\n\u001b[0;32m   2234\u001b[0m                 \u001b[1;32mbreak\u001b[0m\u001b[1;33m\u001b[0m\u001b[1;33m\u001b[0m\u001b[0m\n\u001b[1;32m-> 2235\u001b[1;33m         \u001b[1;32mreturn\u001b[0m \u001b[0mnewpath\u001b[0m\u001b[1;33m\u001b[0m\u001b[1;33m\u001b[0m\u001b[0m\n\u001b[0m\u001b[0;32m   2236\u001b[0m     \u001b[1;32mreturn\u001b[0m \u001b[0mfpath\u001b[0m\u001b[1;33m\u001b[0m\u001b[1;33m\u001b[0m\u001b[0m\n\u001b[0;32m   2237\u001b[0m \u001b[1;33m\u001b[0m\u001b[0m\n",
      "\u001b[1;31mUnboundLocalError\u001b[0m: local variable 'newpath' referenced before assignment"
     ]
    }
   ],
   "source": [
    "raw.plot();"
   ]
  },
  {
   "cell_type": "code",
   "execution_count": 44,
   "metadata": {},
   "outputs": [
    {
     "data": {
      "text/plain": [
       "(152, 3)"
      ]
     },
     "execution_count": 44,
     "metadata": {},
     "output_type": "execute_result"
    }
   ],
   "source": [
    "events[0].shape"
   ]
  },
  {
   "cell_type": "code",
   "execution_count": 45,
   "metadata": {},
   "outputs": [],
   "source": [
    "mne.viz.plot_events(events[0]);"
   ]
  },
  {
   "cell_type": "code",
   "execution_count": 46,
   "metadata": {},
   "outputs": [
    {
     "name": "stdout",
     "output_type": "stream",
     "text": [
      "Not setting metadata\n",
      "Not setting metadata\n",
      "152 matching events found\n",
      "Setting baseline interval to [-0.2, 0.0] sec\n",
      "Applying baseline correction (mode: mean)\n",
      "0 projection items activated\n"
     ]
    }
   ],
   "source": [
    "epochs = mne.Epochs(raw, events[0], event_id = events[1])"
   ]
  },
  {
   "cell_type": "code",
   "execution_count": 47,
   "metadata": {},
   "outputs": [
    {
     "name": "stdout",
     "output_type": "stream",
     "text": [
      "Loading data for 152 events and 351 original time points ...\n",
      "0 bad epochs dropped\n",
      "Loading data for 152 events and 351 original time points ...\n",
      "Loading data for 20 events and 351 original time points ...\n",
      "Dropped 8 epochs: 0, 2, 5, 7, 10, 12, 15, 17\n",
      "Channels marked as bad: none\n"
     ]
    }
   ],
   "source": [
    "epochs.plot();"
   ]
  },
  {
   "cell_type": "code",
   "execution_count": 48,
   "metadata": {},
   "outputs": [
    {
     "name": "stdout",
     "output_type": "stream",
     "text": [
      "Not setting metadata\n",
      "Not setting metadata\n",
      "152 matching events found\n",
      "Setting baseline interval to [-0.2, 0.0] sec\n",
      "Applying baseline correction (mode: mean)\n",
      "0 projection items activated\n",
      "Loading data for 152 events and 351 original time points ...\n",
      "0 bad epochs dropped\n",
      "Loading data for 152 events and 351 original time points ...\n",
      "Loading data for 20 events and 351 original time points ...\n",
      "Dropped 0 epochs: \n",
      "Channels marked as bad: none\n"
     ]
    }
   ],
   "source": [
    "epochs_m = mne.Epochs(raw_m, events[0], event_id = events[1])\n",
    "epochs_m.plot();"
   ]
  },
  {
   "cell_type": "code",
   "execution_count": 49,
   "metadata": {},
   "outputs": [
    {
     "name": "stdout",
     "output_type": "stream",
     "text": [
      "Loading data for 152 events and 351 original time points ...\n"
     ]
    },
    {
     "data": {
      "text/plain": [
       "<Epochs |  152 events (all good), -0.2 - 0.5 sec, baseline [-0.2, 0] sec, ~26.1 MB, data loaded,\n",
       " '1': 60\n",
       " '10': 1\n",
       " '2': 40\n",
       " '4': 10\n",
       " '5': 40\n",
       " '9': 1>"
      ]
     },
     "execution_count": 49,
     "metadata": {},
     "output_type": "execute_result"
    }
   ],
   "source": [
    "epochs_m.load_data()"
   ]
  },
  {
   "cell_type": "code",
   "execution_count": 50,
   "metadata": {},
   "outputs": [
    {
     "name": "stdout",
     "output_type": "stream",
     "text": [
      "Applying ICA to Epochs instance\n",
      "    Transforming to ICA space (20 components)\n",
      "    Zeroing out 3 ICA components\n",
      "    Projecting back using 64 PCA components\n"
     ]
    }
   ],
   "source": [
    "epochs_m = ica.apply(epochs_m, exclude = ica.exclude)"
   ]
  },
  {
   "cell_type": "code",
   "execution_count": 51,
   "metadata": {},
   "outputs": [
    {
     "name": "stdout",
     "output_type": "stream",
     "text": [
      "Dropped 0 epochs: \n",
      "Channels marked as bad: none\n"
     ]
    }
   ],
   "source": [
    "epochs_m.plot();"
   ]
  },
  {
   "cell_type": "code",
   "execution_count": 52,
   "metadata": {},
   "outputs": [
    {
     "data": {
      "text/plain": [
       "<Info | 8 non-empty values\n",
       " bads: []\n",
       " ch_names: AF3, AF4, F7, F5, F3, F1, Fz, F2, F4, F6, F8, FT7, FC5, FC3, ...\n",
       " chs: 64 EEG\n",
       " custom_ref_applied: False\n",
       " dig: 64 items (64 EEG)\n",
       " highpass: 1.0 Hz\n",
       " lowpass: 50.0 Hz\n",
       " meas_date: unspecified\n",
       " nchan: 64\n",
       " projs: []\n",
       " sfreq: 500.0 Hz\n",
       ">"
      ]
     },
     "execution_count": 52,
     "metadata": {},
     "output_type": "execute_result"
    }
   ],
   "source": [
    "epochs_m.info"
   ]
  },
  {
   "cell_type": "code",
   "execution_count": 53,
   "metadata": {},
   "outputs": [
    {
     "name": "stdout",
     "output_type": "stream",
     "text": [
      "Loading data for 1 events and 351 original time points ...\n",
      "Not setting metadata\n",
      "Not setting metadata\n",
      "1 matching events found\n",
      "No baseline correction applied\n",
      "0 projection items activated\n",
      "0 bad epochs dropped\n"
     ]
    },
    {
     "data": {
      "text/plain": [
       "[<Figure size 1280x918 with 4 Axes>]"
      ]
     },
     "execution_count": 53,
     "metadata": {},
     "output_type": "execute_result"
    }
   ],
   "source": [
    "epochs[1].plot_image(picks = [1])"
   ]
  },
  {
   "cell_type": "code",
   "execution_count": 54,
   "metadata": {},
   "outputs": [],
   "source": [
    "#epochs_m.save(\"trialdata-epo.fif\")"
   ]
  },
  {
   "cell_type": "code",
   "execution_count": null,
   "metadata": {},
   "outputs": [],
   "source": []
  }
 ],
 "metadata": {
  "kernelspec": {
   "display_name": "Python 3",
   "language": "python",
   "name": "python3"
  },
  "language_info": {
   "codemirror_mode": {
    "name": "ipython",
    "version": 3
   },
   "file_extension": ".py",
   "mimetype": "text/x-python",
   "name": "python",
   "nbconvert_exporter": "python",
   "pygments_lexer": "ipython3",
   "version": "3.7.6"
  }
 },
 "nbformat": 4,
 "nbformat_minor": 4
}
