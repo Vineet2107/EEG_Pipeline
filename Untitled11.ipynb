{
  "nbformat": 4,
  "nbformat_minor": 0,
  "metadata": {
    "colab": {
      "name": "Untitled11.ipynb",
      "provenance": [],
      "authorship_tag": "ABX9TyMYPAJADSdFHzw5DdBbNRz3",
      "include_colab_link": true
    },
    "kernelspec": {
      "name": "python3",
      "display_name": "Python 3"
    },
    "language_info": {
      "name": "python"
    }
  },
  "cells": [
    {
      "cell_type": "markdown",
      "metadata": {
        "id": "view-in-github",
        "colab_type": "text"
      },
      "source": [
        "<a href=\"https://colab.research.google.com/github/Vineet2107/EEG_Pipeline/blob/main/Untitled11.ipynb\" target=\"_parent\"><img src=\"https://colab.research.google.com/assets/colab-badge.svg\" alt=\"Open In Colab\"/></a>"
      ]
    },
    {
      "cell_type": "code",
      "metadata": {
        "id": "Q_yIzASZyP6y"
      },
      "source": [
        "import tensorflow as tf\n",
        "from tensorflow.keras.models import Model\n",
        "from tensorflow.keras.layers import Dense, Dropout, Layer\n",
        "\n",
        "class MyModel(Model):\n",
        "  def __init__(self, num_classes):\n",
        "    super(MyModel, self).__init__()\n",
        "    self.dense1 = Dense(16, activation='sigmoid')\n",
        "    self.dropout = Dropout(0.5)\n",
        "    self.dense2 = Dense(num_classes, activation='sigmoid')\n",
        "  \n",
        "  def call(self, inputs, training=False):\n",
        "    h = self.dense1(inputs)\n",
        "    h = self.dropout(h, training=training)\n",
        "    return self.dense2(h)"
      ],
      "execution_count": 20,
      "outputs": []
    },
    {
      "cell_type": "code",
      "metadata": {
        "id": "aYf9aNkCz-dT"
      },
      "source": [
        "my_model = MyModel(10)"
      ],
      "execution_count": 21,
      "outputs": []
    },
    {
      "cell_type": "code",
      "metadata": {
        "colab": {
          "base_uri": "https://localhost:8080/"
        },
        "id": "NrYhAh8O4cKL",
        "outputId": "cdbf31a4-264d-4ba2-c165-3ca4bb62e7e0"
      },
      "source": [
        "# automatic differentation\n",
        "\n",
        "x = tf.constant(2.0)\n",
        "\n",
        "with tf.GradientTape() as tape:\n",
        "  tape.watch(x)\n",
        "  y = x**2\n",
        "  grad = tape.gradient(y, x)\n",
        "\n",
        "print(grad)\n",
        "\n",
        "\n"
      ],
      "execution_count": 23,
      "outputs": [
        {
          "output_type": "stream",
          "text": [
            "tf.Tensor(4.0, shape=(), dtype=float32)\n"
          ],
          "name": "stdout"
        }
      ]
    },
    {
      "cell_type": "code",
      "metadata": {
        "colab": {
          "base_uri": "https://localhost:8080/"
        },
        "id": "Oa2AXZcGCt4y",
        "outputId": "a903a0c9-1f05-4823-f5ac-557217d5063b"
      },
      "source": [
        "x = tf.constant([0, 1, 2, 3], dtype=tf.float32)\n",
        "\n",
        "with tf.GradientTape() as tape:\n",
        "  tape.watch(x)\n",
        "  y = tf.reduce_sum(x**2)\n",
        "  z = tf.math.sin(y)\n",
        "  dz_dy, dz_dx = tape.gradient(z, [y, x])\n",
        "\n",
        "print(dz_dx)\n",
        "print(dz_dy)"
      ],
      "execution_count": 25,
      "outputs": [
        {
          "output_type": "stream",
          "text": [
            "tf.Tensor([0.         0.27347443 0.54694885 0.82042325], shape=(4,), dtype=float32)\n",
            "tf.Tensor(0.13673721, shape=(), dtype=float32)\n"
          ],
          "name": "stdout"
        }
      ]
    },
    {
      "cell_type": "code",
      "metadata": {
        "id": "ZWg8paR5EGct"
      },
      "source": [
        ""
      ],
      "execution_count": null,
      "outputs": []
    }
  ]
}