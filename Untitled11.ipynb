{
  "nbformat": 4,
  "nbformat_minor": 0,
  "metadata": {
    "colab": {
      "name": "Untitled11.ipynb",
      "provenance": [],
      "authorship_tag": "ABX9TyMoJKRMmyGqVCeJxZNlec1k",
      "include_colab_link": true
    },
    "kernelspec": {
      "name": "python3",
      "display_name": "Python 3"
    },
    "language_info": {
      "name": "python"
    }
  },
  "cells": [
    {
      "cell_type": "markdown",
      "metadata": {
        "id": "view-in-github",
        "colab_type": "text"
      },
      "source": [
        "<a href=\"https://colab.research.google.com/github/Vineet2107/EEG_Pipeline/blob/main/Untitled11.ipynb\" target=\"_parent\"><img src=\"https://colab.research.google.com/assets/colab-badge.svg\" alt=\"Open In Colab\"/></a>"
      ]
    },
    {
      "cell_type": "code",
      "metadata": {
        "id": "Q_yIzASZyP6y"
      },
      "source": [
        "from tensorflow.keras.models import Model\n",
        "from tensorflow.keras.layers import Dense, Dropout\n",
        "\n",
        "class MyModel(Model):\n",
        "  def __init__(self, num_classes, **kwargs):\n",
        "    super(MyModel, self).__init__(**kwargs)\n",
        "    self.dense1 = Dense(16, activation='sigmoid')\n",
        "    self.dropout = Dropout(0.5)\n",
        "    self.dense2 = Dense(num_classes, activation='sigmoid')\n",
        "  \n",
        "  def call(self, inputs, training=False):\n",
        "    h = self.dense1(inputs)\n",
        "    h = self.dropout(h, training=training)\n",
        "    return self.dense2(h)"
      ],
      "execution_count": 13,
      "outputs": []
    },
    {
      "cell_type": "code",
      "metadata": {
        "id": "aYf9aNkCz-dT"
      },
      "source": [
        "my_model = MyModel(10, name='my_model')"
      ],
      "execution_count": 14,
      "outputs": []
    },
    {
      "cell_type": "code",
      "metadata": {
        "id": "NrYhAh8O4cKL"
      },
      "source": [
        ""
      ],
      "execution_count": 12,
      "outputs": []
    }
  ]
}