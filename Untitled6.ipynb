{
  "nbformat": 4,
  "nbformat_minor": 0,
  "metadata": {
    "colab": {
      "name": "Untitled6.ipynb",
      "provenance": [],
      "authorship_tag": "ABX9TyMiFy+jo4WUwVPO4Bnw9AiA",
      "include_colab_link": true
    },
    "kernelspec": {
      "name": "python3",
      "display_name": "Python 3"
    },
    "language_info": {
      "name": "python"
    }
  },
  "cells": [
    {
      "cell_type": "markdown",
      "metadata": {
        "id": "view-in-github",
        "colab_type": "text"
      },
      "source": [
        "<a href=\"https://colab.research.google.com/github/Vineet2107/EEG_Pipeline/blob/main/Untitled6.ipynb\" target=\"_parent\"><img src=\"https://colab.research.google.com/assets/colab-badge.svg\" alt=\"Open In Colab\"/></a>"
      ]
    },
    {
      "cell_type": "code",
      "metadata": {
        "id": "ZLo2DFfxm7Ta"
      },
      "source": [
        "import tensorflow as tf\n",
        "from tensorflow import keras\n",
        "from tensorflow.keras.layers import Dense, Conv2D, MaxPooling2D, Flatten, Input\n",
        "from tensorflow.keras import Model\n",
        "import numpy as np\n",
        "import pandas as pd\n",
        "import matplotlib.pyplot as plt\n"
      ],
      "execution_count": 1,
      "outputs": []
    },
    {
      "cell_type": "code",
      "metadata": {
        "id": "YiRwH4_Znlqi",
        "outputId": "6507ac9f-4e90-47c6-ac12-784ed26de433",
        "colab": {
          "base_uri": "https://localhost:8080/"
        }
      },
      "source": [
        "from keras.datasets import cifar10\n",
        "(x_train, y_train), (x_test, y_test) = cifar10.load_data()"
      ],
      "execution_count": 2,
      "outputs": [
        {
          "output_type": "stream",
          "text": [
            "Downloading data from https://www.cs.toronto.edu/~kriz/cifar-10-python.tar.gz\n",
            "170500096/170498071 [==============================] - 3s 0us/step\n",
            "170508288/170498071 [==============================] - 3s 0us/step\n"
          ],
          "name": "stdout"
        }
      ]
    },
    {
      "cell_type": "code",
      "metadata": {
        "colab": {
          "base_uri": "https://localhost:8080/"
        },
        "id": "DsAv3BqwoxhQ",
        "outputId": "7e9990f9-4b1a-440d-960b-26ba871c1fff"
      },
      "source": [
        "x_train.shape"
      ],
      "execution_count": 3,
      "outputs": [
        {
          "output_type": "execute_result",
          "data": {
            "text/plain": [
              "(50000, 32, 32, 3)"
            ]
          },
          "metadata": {
            "tags": []
          },
          "execution_count": 3
        }
      ]
    },
    {
      "cell_type": "code",
      "metadata": {
        "id": "P99CyK4Npgqw"
      },
      "source": [
        "x_train, x_test = x_train/255.0, x_test/255.0"
      ],
      "execution_count": 4,
      "outputs": []
    },
    {
      "cell_type": "code",
      "metadata": {
        "colab": {
          "base_uri": "https://localhost:8080/",
          "height": 282
        },
        "id": "WAkFjgxXp05v",
        "outputId": "9444551a-3144-47e1-bc60-a4ed49d29006"
      },
      "source": [
        "plt.imshow(x_train[1])"
      ],
      "execution_count": 5,
      "outputs": [
        {
          "output_type": "execute_result",
          "data": {
            "text/plain": [
              "<matplotlib.image.AxesImage at 0x7f02ea8c6d50>"
            ]
          },
          "metadata": {
            "tags": []
          },
          "execution_count": 5
        },
        {
          "output_type": "display_data",
          "data": {
            "image/png": "[encoded data removed]",
            "text/plain": [
              "<Figure size 432x288 with 1 Axes>"
            ]
          },
          "metadata": {
            "tags": [],
            "needs_background": "light"
          }
        }
      ]
    },
    {
      "cell_type": "code",
      "metadata": {
        "colab": {
          "base_uri": "https://localhost:8080/"
        },
        "id": "wNxq3bnbqSIf",
        "outputId": "71030d5d-44ae-4fd0-ec87-590e53f8b51a"
      },
      "source": [
        "input = keras.Input((32,32,3))\n",
        "conv1 = Conv2D(16, 3, strides=(2,2),  activation='relu')(input)\n",
        "conv2 = Conv2D(32, 3, activation='relu')(conv1)\n",
        "max1 = MaxPooling2D((2,2))(conv2)\n",
        "conv3 = Conv2D(64, 3, activation='relu')(max1)\n",
        "max2 = MaxPooling2D((2,2))(conv3)\n",
        "flatten = Flatten()(max2)\n",
        "dense1 = Dense(256, activation='relu')(flatten)\n",
        "dense2 = Dense(10, activation='relu')(dense1)\n",
        "\n",
        "model = Model(input, dense2)\n",
        "model.summary()\n"
      ],
      "execution_count": 6,
      "outputs": [
        {
          "output_type": "stream",
          "text": [
            "Model: \"model\"\n",
            "_________________________________________________________________\n",
            "Layer (type)                 Output Shape              Param #   \n",
            "=================================================================\n",
            "input_1 (InputLayer)         [(None, 32, 32, 3)]       0         \n",
            "_________________________________________________________________\n",
            "conv2d (Conv2D)              (None, 15, 15, 16)        448       \n",
            "_________________________________________________________________\n",
            "conv2d_1 (Conv2D)            (None, 13, 13, 32)        4640      \n",
            "_________________________________________________________________\n",
            "max_pooling2d (MaxPooling2D) (None, 6, 6, 32)          0         \n",
            "_________________________________________________________________\n",
            "conv2d_2 (Conv2D)            (None, 4, 4, 64)          18496     \n",
            "_________________________________________________________________\n",
            "max_pooling2d_1 (MaxPooling2 (None, 2, 2, 64)          0         \n",
            "_________________________________________________________________\n",
            "flatten (Flatten)            (None, 256)               0         \n",
            "_________________________________________________________________\n",
            "dense (Dense)                (None, 256)               65792     \n",
            "_________________________________________________________________\n",
            "dense_1 (Dense)              (None, 10)                2570      \n",
            "=================================================================\n",
            "Total params: 91,946\n",
            "Trainable params: 91,946\n",
            "Non-trainable params: 0\n",
            "_________________________________________________________________\n"
          ],
          "name": "stdout"
        }
      ]
    },
    {
      "cell_type": "code",
      "metadata": {
        "colab": {
          "base_uri": "https://localhost:8080/"
        },
        "id": "KO9iR71guaYO",
        "outputId": "06391ce8-a484-4258-c267-25e2943dd418"
      },
      "source": [
        "model.compile(optimizer=tf.keras.optimizers.Adam(lr=0.001), loss=tf.keras.losses.SparseCategoricalCrossentropy(from_logits=True), metrics=['acc'])"
      ],
      "execution_count": 7,
      "outputs": [
        {
          "output_type": "stream",
          "text": [
            "/usr/local/lib/python3.7/dist-packages/tensorflow/python/keras/optimizer_v2/optimizer_v2.py:375: UserWarning: The `lr` argument is deprecated, use `learning_rate` instead.\n",
            "  \"The `lr` argument is deprecated, use `learning_rate` instead.\")\n"
          ],
          "name": "stderr"
        }
      ]
    },
    {
      "cell_type": "code",
      "metadata": {
        "colab": {
          "base_uri": "https://localhost:8080/"
        },
        "id": "NZJRO8e7yDpd",
        "outputId": "52e05c2d-1ce1-4b82-e58b-4746abfffbca"
      },
      "source": [
        "history= model.fit(x_train, y_train, batch_size=128, epochs=30)"
      ],
      "execution_count": 8,
      "outputs": [
        {
          "output_type": "stream",
          "text": [
            "Epoch 1/30\n",
            "391/391 [==============================] - 18s 44ms/step - loss: 2.0826 - acc: 0.2604\n",
            "Epoch 2/30\n",
            "391/391 [==============================] - 17s 44ms/step - loss: 1.8981 - acc: 0.3372\n",
            "Epoch 3/30\n",
            "391/391 [==============================] - 17s 44ms/step - loss: 1.8007 - acc: 0.3719\n",
            "Epoch 4/30\n",
            "391/391 [==============================] - 17s 44ms/step - loss: 1.7453 - acc: 0.3871\n",
            "Epoch 5/30\n",
            "391/391 [==============================] - 17s 44ms/step - loss: 1.7110 - acc: 0.3992\n",
            "Epoch 6/30\n",
            "391/391 [==============================] - 17s 44ms/step - loss: 1.6692 - acc: 0.4116\n",
            "Epoch 7/30\n",
            "391/391 [==============================] - 17s 43ms/step - loss: 1.6405 - acc: 0.4191\n",
            "Epoch 8/30\n",
            "391/391 [==============================] - 17s 44ms/step - loss: 1.6137 - acc: 0.4280\n",
            "Epoch 9/30\n",
            "391/391 [==============================] - 17s 43ms/step - loss: 1.5886 - acc: 0.4351\n",
            "Epoch 10/30\n",
            "391/391 [==============================] - 17s 43ms/step - loss: 1.5669 - acc: 0.4408\n",
            "Epoch 11/30\n",
            "391/391 [==============================] - 17s 43ms/step - loss: 1.5411 - acc: 0.4474\n",
            "Epoch 12/30\n",
            "391/391 [==============================] - 17s 43ms/step - loss: 1.5258 - acc: 0.4496\n",
            "Epoch 13/30\n",
            "391/391 [==============================] - 17s 43ms/step - loss: 1.4966 - acc: 0.4595\n",
            "Epoch 14/30\n",
            "391/391 [==============================] - 17s 43ms/step - loss: 1.4788 - acc: 0.4638\n",
            "Epoch 15/30\n",
            "391/391 [==============================] - 17s 43ms/step - loss: 1.4611 - acc: 0.4670\n",
            "Epoch 16/30\n",
            "391/391 [==============================] - 17s 43ms/step - loss: 1.4421 - acc: 0.4724\n",
            "Epoch 17/30\n",
            "391/391 [==============================] - 17s 43ms/step - loss: 1.4245 - acc: 0.4773\n",
            "Epoch 18/30\n",
            "391/391 [==============================] - 17s 43ms/step - loss: 1.4084 - acc: 0.4815\n",
            "Epoch 19/30\n",
            "391/391 [==============================] - 17s 43ms/step - loss: 1.3880 - acc: 0.4875\n",
            "Epoch 20/30\n",
            "391/391 [==============================] - 17s 43ms/step - loss: 1.3733 - acc: 0.4899\n",
            "Epoch 21/30\n",
            "391/391 [==============================] - 17s 43ms/step - loss: 1.3578 - acc: 0.4947\n",
            "Epoch 22/30\n",
            "391/391 [==============================] - 17s 43ms/step - loss: 1.3423 - acc: 0.4980\n",
            "Epoch 23/30\n",
            "391/391 [==============================] - 17s 43ms/step - loss: 1.3230 - acc: 0.5024\n",
            "Epoch 24/30\n",
            "391/391 [==============================] - 17s 43ms/step - loss: 1.3075 - acc: 0.5068\n",
            "Epoch 25/30\n",
            "391/391 [==============================] - 17s 43ms/step - loss: 1.2916 - acc: 0.5102\n",
            "Epoch 26/30\n",
            "391/391 [==============================] - 17s 43ms/step - loss: 1.2775 - acc: 0.5130\n",
            "Epoch 27/30\n",
            "391/391 [==============================] - 17s 43ms/step - loss: 1.2659 - acc: 0.5152\n",
            "Epoch 28/30\n",
            "391/391 [==============================] - 17s 43ms/step - loss: 1.2550 - acc: 0.5188\n",
            "Epoch 29/30\n",
            "391/391 [==============================] - 17s 43ms/step - loss: 1.2379 - acc: 0.5218\n",
            "Epoch 30/30\n",
            "391/391 [==============================] - 17s 43ms/step - loss: 1.2249 - acc: 0.5235\n"
          ],
          "name": "stdout"
        }
      ]
    },
    {
      "cell_type": "code",
      "metadata": {
        "colab": {
          "base_uri": "https://localhost:8080/"
        },
        "id": "IcwNaMbXyKOh",
        "outputId": "aac69628-dd37-4ce8-cff6-6d51b8ea031a"
      },
      "source": [
        "results = model.evaluate(x_test, y_test, batch_size=128)\n",
        "print(\"test loss, test acc:\", results)"
      ],
      "execution_count": 9,
      "outputs": [
        {
          "output_type": "stream",
          "text": [
            "79/79 [==============================] - 1s 13ms/step - loss: 1.7555 - acc: 0.4029\n",
            "test loss, test acc: [1.7554619312286377, 0.40290001034736633]\n"
          ],
          "name": "stdout"
        }
      ]
    },
    {
      "cell_type": "code",
      "metadata": {
        "id": "oTxlT2BazfUY"
      },
      "source": [
        ""
      ],
      "execution_count": 9,
      "outputs": []
    }
  ]
}