{
 "cells": [
  {
   "cell_type": "code",
   "execution_count": 22,
   "metadata": {},
   "outputs": [
    {
     "name": "stdout",
     "output_type": "stream",
     "text": [
      "0.22.1\n"
     ]
    }
   ],
   "source": [
    "import matplotlib\n",
    "import pathlib\n",
    "\n",
    "import mne\n",
    "print(mne.__version__)\n",
    "import mne_bids\n",
    "\n",
    "matplotlib.use('Qt5Agg')"
   ]
  },
  {
   "cell_type": "code",
   "execution_count": 23,
   "metadata": {},
   "outputs": [],
   "source": [
    "rawab12_1 = mne.io.read_raw_eeglab('sub-AB12_eeg_sub-AB12_task-gonogo_run-1_eeg.set', eog=(), preload=True, uint16_codec=None, verbose=None)\n",
    "rawab12_2 = mne.io.read_raw_eeglab('sub-AB12_eeg_sub-AB12_task-gonogo_run-2_eeg.set', eog=(), preload=True, uint16_codec=None, verbose=None)"
   ]
  },
  {
   "cell_type": "code",
   "execution_count": 24,
   "metadata": {},
   "outputs": [
    {
     "data": {
      "text/plain": [
       "<MNEBrowseFigure size 1920x864 with 4 Axes>"
      ]
     },
     "execution_count": 24,
     "metadata": {},
     "output_type": "execute_result"
    },
    {
     "name": "stdout",
     "output_type": "stream",
     "text": [
      "Channels marked as bad: none\n"
     ]
    }
   ],
   "source": [
    "rawab12_1.plot()"
   ]
  },
  {
   "cell_type": "code",
   "execution_count": 25,
   "metadata": {},
   "outputs": [
    {
     "data": {
      "text/plain": [
       "['AF3',\n",
       " 'AF4',\n",
       " 'F7',\n",
       " 'F5',\n",
       " 'F3',\n",
       " 'F1',\n",
       " 'Fz',\n",
       " 'F2',\n",
       " 'F4',\n",
       " 'F6',\n",
       " 'F8',\n",
       " 'FT7',\n",
       " 'FC5',\n",
       " 'FC3',\n",
       " 'FC1',\n",
       " 'FCz',\n",
       " 'FC2',\n",
       " 'FC4',\n",
       " 'FC6',\n",
       " 'FT8',\n",
       " 'T7',\n",
       " 'C5',\n",
       " 'C3',\n",
       " 'C1',\n",
       " 'Cz',\n",
       " 'C2',\n",
       " 'C4',\n",
       " 'C6',\n",
       " 'T8',\n",
       " 'M1',\n",
       " 'TP7',\n",
       " 'CP5',\n",
       " 'CP3',\n",
       " 'CP1',\n",
       " 'CPz',\n",
       " 'CP2',\n",
       " 'CP4',\n",
       " 'CP6',\n",
       " 'TP8',\n",
       " 'M2',\n",
       " 'P7',\n",
       " 'P5',\n",
       " 'P3',\n",
       " 'P1',\n",
       " 'Pz',\n",
       " 'P2',\n",
       " 'P4',\n",
       " 'P6',\n",
       " 'P8',\n",
       " 'PO7',\n",
       " 'PO5',\n",
       " 'PO3',\n",
       " 'POz',\n",
       " 'PO4',\n",
       " 'PO6',\n",
       " 'PO8',\n",
       " 'CB1',\n",
       " 'O1',\n",
       " 'Oz',\n",
       " 'O2',\n",
       " 'CB2',\n",
       " 'VEO',\n",
       " 'HEO',\n",
       " 'EKG',\n",
       " 'R-Dia-X-(mm)',\n",
       " 'R-Dia-Y-(mm)']"
      ]
     },
     "execution_count": 25,
     "metadata": {},
     "output_type": "execute_result"
    }
   ],
   "source": [
    "rawab12_1.info['ch_names']"
   ]
  },
  {
   "cell_type": "code",
   "execution_count": 26,
   "metadata": {},
   "outputs": [
    {
     "name": "stdout",
     "output_type": "stream",
     "text": [
      "66\n",
      "The 66 eeg channels indices are:\n",
      "[ 0  1  2  3  4  5  6  7  8  9 10 11 12 13 14 15 16 17 18 19 20 21 22 23\n",
      " 24 25 26 27 28 29 30 31 32 33 34 35 36 37 38 39 40 41 42 43 44 45 46 47\n",
      " 48 49 50 51 52 53 54 55 56 57 58 59 60 61 62 63 64 65]\n"
     ]
    }
   ],
   "source": [
    "channel_indices_ab12_1 = mne.pick_types(rawab12_1.info, eeg=True)\n",
    "print(len(channel_indices_ab12_1))\n",
    "print(f\"The {len(channel_indices_ab12_1)} eeg channels indices are:\\n{channel_indices_ab12_1}\")"
   ]
  },
  {
   "cell_type": "code",
   "execution_count": 27,
   "metadata": {},
   "outputs": [
    {
     "name": "stdout",
     "output_type": "stream",
     "text": [
      "Used Annotations descriptions: ['1', '10', '2', '4', '5', '6', '7', '9']\n",
      "Used Annotations descriptions: ['1', '10', '11', '2', '3', '4', '5', '6', '7', '9']\n"
     ]
    }
   ],
   "source": [
    "eventsab12_1 = mne.events_from_annotations(rawab12_1)\n",
    "eventsab12_2 = mne.events_from_annotations(rawab12_2)"
   ]
  },
  {
   "cell_type": "code",
   "execution_count": 28,
   "metadata": {},
   "outputs": [
    {
     "data": {
      "text/plain": [
       "(array([[  3892,      0,      8],\n",
       "        [  6554,      0,      1],\n",
       "        [  7378,      0,      3],\n",
       "        [  7517,      0,      5],\n",
       "        [ 10060,      0,      1],\n",
       "        [ 10880,      0,      3],\n",
       "        [ 11171,      0,      5],\n",
       "        [ 14233,      0,      1],\n",
       "        [ 15088,      0,      4],\n",
       "        [ 17768,      0,      1],\n",
       "        [ 18530,      0,      3],\n",
       "        [ 18859,      0,      5],\n",
       "        [ 21968,      0,      1],\n",
       "        [ 22993,      0,      3],\n",
       "        [ 23219,      0,      5],\n",
       "        [ 26140,      0,      1],\n",
       "        [ 30195,      0,      1],\n",
       "        [ 30978,      0,      3],\n",
       "        [ 31155,      0,      5],\n",
       "        [ 34050,      0,      1],\n",
       "        [ 34995,      0,      3],\n",
       "        [ 35227,      0,      5],\n",
       "        [ 37995,      0,      1],\n",
       "        [ 38815,      0,      3],\n",
       "        [ 39051,      0,      5],\n",
       "        [ 41925,      0,      1],\n",
       "        [ 46265,      0,      1],\n",
       "        [ 47085,      0,      4],\n",
       "        [ 50198,      0,      1],\n",
       "        [ 51125,      0,      3],\n",
       "        [ 51299,      0,      5],\n",
       "        [ 54243,      0,      1],\n",
       "        [ 55078,      0,      3],\n",
       "        [ 55323,      0,      5],\n",
       "        [ 58308,      0,      1],\n",
       "        [ 59265,      0,      3],\n",
       "        [ 59523,      0,      5],\n",
       "        [ 62353,      0,      1],\n",
       "        [ 63148,      0,      3],\n",
       "        [ 63387,      0,      5],\n",
       "        [ 65890,      0,      1],\n",
       "        [ 66688,      0,      3],\n",
       "        [ 66931,      0,      5],\n",
       "        [ 69443,      0,      1],\n",
       "        [ 74595,      0,      1],\n",
       "        [ 75350,      0,      4],\n",
       "        [ 78083,      0,      1],\n",
       "        [ 78893,      0,      3],\n",
       "        [ 79067,      0,      5],\n",
       "        [ 81538,      0,      1],\n",
       "        [ 82320,      0,      3],\n",
       "        [ 82507,      0,      5],\n",
       "        [ 85415,      0,      1],\n",
       "        [ 86235,      0,      4],\n",
       "        [ 89200,      0,      1],\n",
       "        [ 93213,      0,      1],\n",
       "        [ 94283,      0,      3],\n",
       "        [ 94579,      0,      5],\n",
       "        [ 96991,      0,      1],\n",
       "        [ 97926,      0,      3],\n",
       "        [ 98187,      0,      5],\n",
       "        [100646,      0,      1],\n",
       "        [101526,      0,      3],\n",
       "        [101707,      0,      5],\n",
       "        [105066,      0,      1],\n",
       "        [105891,      0,      3],\n",
       "        [106139,      0,      5],\n",
       "        [108763,      0,      1],\n",
       "        [109741,      0,      3],\n",
       "        [110019,      0,      5],\n",
       "        [112383,      0,      1],\n",
       "        [113218,      0,      4],\n",
       "        [117888,      0,      1],\n",
       "        [121603,      0,      1],\n",
       "        [122783,      0,      3],\n",
       "        [123011,      0,      5],\n",
       "        [125616,      0,      1],\n",
       "        [126371,      0,      3],\n",
       "        [126539,      0,      5],\n",
       "        [129131,      0,      1],\n",
       "        [129993,      0,      3],\n",
       "        [130155,      0,      5],\n",
       "        [132981,      0,      1],\n",
       "        [133876,      0,      3],\n",
       "        [134083,      0,      5],\n",
       "        [137376,      0,      1],\n",
       "        [138168,      0,      4],\n",
       "        [141003,      0,      1],\n",
       "        [141761,      0,      3],\n",
       "        [142067,      0,      5],\n",
       "        [146243,      0,      1],\n",
       "        [150253,      0,      1],\n",
       "        [151046,      0,      3],\n",
       "        [151203,      0,      5],\n",
       "        [153718,      0,      1],\n",
       "        [154628,      0,      3],\n",
       "        [154787,      0,      5],\n",
       "        [157956,      0,      1],\n",
       "        [159163,      0,      3],\n",
       "        [159443,      0,      5],\n",
       "        [161788,      0,      1],\n",
       "        [162601,      0,      4],\n",
       "        [162812,      0,      6],\n",
       "        [163206,      0,      7],\n",
       "        [165911,      0,      1],\n",
       "        [169626,      0,      1],\n",
       "        [170408,      0,      3],\n",
       "        [170611,      0,      5],\n",
       "        [173418,      0,      1],\n",
       "        [174176,      0,      3],\n",
       "        [174387,      0,      5],\n",
       "        [177396,      0,      1],\n",
       "        [178228,      0,      3],\n",
       "        [178403,      0,      5],\n",
       "        [181018,      0,      1],\n",
       "        [181783,      0,      3],\n",
       "        [181995,      0,      5],\n",
       "        [184633,      0,      1],\n",
       "        [188181,      0,      1],\n",
       "        [188968,      0,      3],\n",
       "        [189203,      0,      5],\n",
       "        [191708,      0,      1],\n",
       "        [192608,      0,      4],\n",
       "        [195871,      0,      1],\n",
       "        [196731,      0,      3],\n",
       "        [196907,      0,      5],\n",
       "        [200221,      0,      1],\n",
       "        [200993,      0,      3],\n",
       "        [201251,      0,      5],\n",
       "        [204828,      0,      1],\n",
       "        [205638,      0,      3],\n",
       "        [205803,      0,      5],\n",
       "        [208836,      0,      1],\n",
       "        [209713,      0,      3],\n",
       "        [209883,      0,      5],\n",
       "        [212458,      0,      1],\n",
       "        [213296,      0,      4],\n",
       "        [216601,      0,      1],\n",
       "        [220866,      0,      1],\n",
       "        [221688,      0,      3],\n",
       "        [221851,      0,      5],\n",
       "        [224416,      0,      1],\n",
       "        [225316,      0,      3],\n",
       "        [225491,      0,      5],\n",
       "        [228381,      0,      1],\n",
       "        [229243,      0,      3],\n",
       "        [229483,      0,      5],\n",
       "        [232178,      0,      1],\n",
       "        [236931,      0,      1],\n",
       "        [237696,      0,      3],\n",
       "        [237859,      0,      5],\n",
       "        [241071,      0,      1],\n",
       "        [241866,      0,      4],\n",
       "        [249662,      0,      2]]),\n",
       " {'1': 1, '10': 2, '2': 3, '4': 4, '5': 5, '6': 6, '7': 7, '9': 8})"
      ]
     },
     "execution_count": 28,
     "metadata": {},
     "output_type": "execute_result"
    }
   ],
   "source": [
    "eventsab12_1"
   ]
  },
  {
   "cell_type": "code",
   "execution_count": 29,
   "metadata": {},
   "outputs": [
    {
     "data": {
      "text/plain": [
       "{'taskstart': '9',\n",
       " 'cue': '1',\n",
       " 'go': '2',\n",
       " 'button press': '5',\n",
       " 'no-go': '4',\n",
       " 'task end': '10',\n",
       " 'error 1': '3',\n",
       " 'error 2': '6',\n",
       " 'error 3': '7',\n",
       " 'error 4': '8',\n",
       " 'error 5': '11'}"
      ]
     },
     "execution_count": 29,
     "metadata": {},
     "output_type": "execute_result"
    }
   ],
   "source": [
    "event_id = {\n",
    "    \"taskstart\" : '9',\n",
    "    \"cue\" : \"1\",\n",
    "    \"go\" : \"2\",\n",
    "    \"button press\" : \"5\",\n",
    "    \"no-go\" : \"4\",\n",
    "    \"task end\": \"10\",\n",
    "    \"error 1\" : \"3\",\n",
    "    \"error 2\" : \"6\",\n",
    "    \"error 3\" : \"7\",\n",
    "    \"error 4\" : \"8\",\n",
    "    \"error 5\" : \"11\"\n",
    "}\n",
    "event_id"
   ]
  },
  {
   "cell_type": "code",
   "execution_count": 30,
   "metadata": {},
   "outputs": [
    {
     "data": {
      "text/plain": [
       "<RawEEGLAB | sub-AB12_eeg_sub-AB12_task-gonogo_run-2_eeg.set, 1 x 254140 (508.3 s), ~2.0 MB, data loaded>"
      ]
     },
     "execution_count": 30,
     "metadata": {},
     "output_type": "execute_result"
    }
   ],
   "source": [
    "rawab12_1.drop_channels(ch_names = ['AF3',\n",
    " 'AF4',\n",
    " 'F7',\n",
    " 'F5',\n",
    " 'F3',\n",
    " 'F1',\n",
    " 'Fz',\n",
    " 'F2',\n",
    " 'F4',\n",
    " 'F6',\n",
    " 'F8',\n",
    " 'FT7',\n",
    " 'FC5',\n",
    " 'FC3',\n",
    " 'FC1',\n",
    " 'FCz',\n",
    " 'FC2',\n",
    " 'FC4',\n",
    " 'FC6',\n",
    " 'FT8',\n",
    " 'T7',\n",
    " 'C5',\n",
    " 'C3',\n",
    " 'C1',\n",
    " 'Cz',\n",
    " 'C2',\n",
    " 'C4',\n",
    " 'C6',\n",
    " 'T8',\n",
    " 'M1',\n",
    " 'TP7',\n",
    " 'CP5',\n",
    " 'CP3',\n",
    " 'CP1',\n",
    " 'CPz',\n",
    " 'CP2',\n",
    " 'CP4',\n",
    " 'CP6',\n",
    " 'TP8',\n",
    " 'M2',\n",
    " 'P7',\n",
    " 'P5',\n",
    " 'P3',\n",
    " 'P1',\n",
    " 'Pz',\n",
    " 'P2',\n",
    " 'P4',\n",
    " 'P6',\n",
    " 'P8',\n",
    " 'PO7',\n",
    " 'PO5',\n",
    " 'PO3',\n",
    " 'POz',\n",
    " 'PO4',\n",
    " 'PO6',\n",
    " 'PO8',\n",
    " 'CB1',\n",
    " 'O1',\n",
    " 'Oz',\n",
    " 'O2',\n",
    " 'CB2',\n",
    " 'VEO',\n",
    " 'HEO', \"R-Dia-X-(mm)\", \"R-Dia-Y-(mm)\"])\n",
    "rawab12_2.drop_channels(ch_names = ['AF3',\n",
    " 'AF4',\n",
    " 'F7',\n",
    " 'F5',\n",
    " 'F3',\n",
    " 'F1',\n",
    " 'Fz',\n",
    " 'F2',\n",
    " 'F4',\n",
    " 'F6',\n",
    " 'F8',\n",
    " 'FT7',\n",
    " 'FC5',\n",
    " 'FC3',\n",
    " 'FC1',\n",
    " 'FCz',\n",
    " 'FC2',\n",
    " 'FC4',\n",
    " 'FC6',\n",
    " 'FT8',\n",
    " 'T7',\n",
    " 'C5',\n",
    " 'C3',\n",
    " 'C1',\n",
    " 'Cz',\n",
    " 'C2',\n",
    " 'C4',\n",
    " 'C6',\n",
    " 'T8',\n",
    " 'M1',\n",
    " 'TP7',\n",
    " 'CP5',\n",
    " 'CP3',\n",
    " 'CP1',\n",
    " 'CPz',\n",
    " 'CP2',\n",
    " 'CP4',\n",
    " 'CP6',\n",
    " 'TP8',\n",
    " 'M2',\n",
    " 'P7',\n",
    " 'P5',\n",
    " 'P3',\n",
    " 'P1',\n",
    " 'Pz',\n",
    " 'P2',\n",
    " 'P4',\n",
    " 'P6',\n",
    " 'P8',\n",
    " 'PO7',\n",
    " 'PO5',\n",
    " 'PO3',\n",
    " 'POz',\n",
    " 'PO4',\n",
    " 'PO6',\n",
    " 'PO8',\n",
    " 'CB1',\n",
    " 'O1',\n",
    " 'Oz',\n",
    " 'O2',\n",
    " 'CB2',\n",
    " 'VEO',\n",
    " 'HEO', \"R-Dia-X-(mm)\", \"R-Dia-Y-(mm)\"])"
   ]
  },
  {
   "cell_type": "code",
   "execution_count": 33,
   "metadata": {},
   "outputs": [],
   "source": [
    "rawab12_1.plot_sensors(sphere=50);"
   ]
  },
  {
   "cell_type": "code",
   "execution_count": 35,
   "metadata": {},
   "outputs": [],
   "source": [
    "rawab12_1.plot_sensors(kind = '3d');"
   ]
  },
  {
   "cell_type": "code",
   "execution_count": 40,
   "metadata": {},
   "outputs": [
    {
     "data": {
      "text/plain": [
       "<MNEBrowseFigure size 1920x864 with 4 Axes>"
      ]
     },
     "execution_count": 40,
     "metadata": {},
     "output_type": "execute_result"
    }
   ],
   "source": [
    "rawab12_2.plot()"
   ]
  },
  {
   "cell_type": "code",
   "execution_count": 36,
   "metadata": {},
   "outputs": [],
   "source": [
    "ica = mne.preprocessing.ICA(n_components = 20, random_state = 42)"
   ]
  },
  {
   "cell_type": "code",
   "execution_count": 37,
   "metadata": {},
   "outputs": [],
   "source": [
    "ica.exclude = [11, 14, 19]"
   ]
  },
  {
   "cell_type": "code",
   "execution_count": 39,
   "metadata": {},
   "outputs": [
    {
     "name": "stdout",
     "output_type": "stream",
     "text": [
      "Filtering raw data in 1 contiguous segment\n",
      "Setting up band-pass filter from 8 - 35 Hz\n",
      "\n",
      "FIR filter parameters\n",
      "---------------------\n",
      "Designing a one-pass, zero-phase, non-causal bandpass filter:\n",
      "- Windowed time-domain design (firwin) method\n",
      "- Hamming window with 0.0194 passband ripple and 53 dB stopband attenuation\n",
      "- Lower passband edge: 8.00\n",
      "- Lower transition bandwidth: 2.00 Hz (-6 dB cutoff frequency: 7.00 Hz)\n",
      "- Upper passband edge: 35.00 Hz\n",
      "- Upper transition bandwidth: 8.75 Hz (-6 dB cutoff frequency: 39.38 Hz)\n",
      "- Filter length: 825 samples (1.650 sec)\n",
      "\n",
      "Fitting ICA to data using 1 channels (please be patient, this may take a while)\n"
     ]
    },
    {
     "ename": "ValueError",
     "evalue": "ica.n_components (20) cannot be greater than len(picks) (1)",
     "output_type": "error",
     "traceback": [
      "\u001b[1;31m---------------------------------------------------------------------------\u001b[0m",
      "\u001b[1;31mValueError\u001b[0m                                Traceback (most recent call last)",
      "\u001b[1;32m<ipython-input-39-69e51c166bd8>\u001b[0m in \u001b[0;36m<module>\u001b[1;34m\u001b[0m\n\u001b[1;32m----> 1\u001b[1;33m \u001b[0mcleaned_ab12_1\u001b[0m \u001b[1;33m=\u001b[0m \u001b[0mica\u001b[0m\u001b[1;33m.\u001b[0m\u001b[0mfit\u001b[0m\u001b[1;33m(\u001b[0m\u001b[0mrawab12_1\u001b[0m\u001b[1;33m.\u001b[0m\u001b[0mcopy\u001b[0m\u001b[1;33m(\u001b[0m\u001b[1;33m)\u001b[0m\u001b[1;33m.\u001b[0m\u001b[0mfilter\u001b[0m\u001b[1;33m(\u001b[0m\u001b[1;36m8\u001b[0m\u001b[1;33m,\u001b[0m \u001b[1;36m35\u001b[0m\u001b[1;33m)\u001b[0m\u001b[1;33m)\u001b[0m\u001b[1;33m\u001b[0m\u001b[1;33m\u001b[0m\u001b[0m\n\u001b[0m\u001b[0;32m      2\u001b[0m \u001b[0mcleaned_ab12_2\u001b[0m \u001b[1;33m=\u001b[0m \u001b[0mica\u001b[0m\u001b[1;33m.\u001b[0m\u001b[0mfit\u001b[0m\u001b[1;33m(\u001b[0m\u001b[0mrawab12_2\u001b[0m\u001b[1;33m.\u001b[0m\u001b[0mcopy\u001b[0m\u001b[1;33m(\u001b[0m\u001b[1;33m)\u001b[0m\u001b[1;33m.\u001b[0m\u001b[0mfilter\u001b[0m\u001b[1;33m(\u001b[0m\u001b[1;36m8\u001b[0m\u001b[1;33m,\u001b[0m \u001b[1;36m35\u001b[0m\u001b[1;33m)\u001b[0m\u001b[1;33m)\u001b[0m\u001b[1;33m\u001b[0m\u001b[1;33m\u001b[0m\u001b[0m\n",
      "\u001b[1;32m<decorator-gen-396>\u001b[0m in \u001b[0;36mfit\u001b[1;34m(self, inst, picks, start, stop, decim, reject, flat, tstep, reject_by_annotation, verbose)\u001b[0m\n",
      "\u001b[1;32m~\\anaconda3\\lib\\site-packages\\mne\\preprocessing\\ica.py\u001b[0m in \u001b[0;36mfit\u001b[1;34m(self, inst, picks, start, stop, decim, reject, flat, tstep, reject_by_annotation, verbose)\u001b[0m\n\u001b[0;32m    557\u001b[0m         \u001b[1;32mif\u001b[0m \u001b[0mself\u001b[0m\u001b[1;33m.\u001b[0m\u001b[0mn_components\u001b[0m \u001b[1;32mis\u001b[0m \u001b[1;32mnot\u001b[0m \u001b[1;32mNone\u001b[0m \u001b[1;32mand\u001b[0m \u001b[0mself\u001b[0m\u001b[1;33m.\u001b[0m\u001b[0mn_components\u001b[0m \u001b[1;33m>\u001b[0m \u001b[0mlen\u001b[0m\u001b[1;33m(\u001b[0m\u001b[0mpicks\u001b[0m\u001b[1;33m)\u001b[0m\u001b[1;33m:\u001b[0m\u001b[1;33m\u001b[0m\u001b[1;33m\u001b[0m\u001b[0m\n\u001b[0;32m    558\u001b[0m             raise ValueError(\n\u001b[1;32m--> 559\u001b[1;33m                 \u001b[1;34mf'ica.n_components ({self.n_components}) cannot '\u001b[0m\u001b[1;33m\u001b[0m\u001b[1;33m\u001b[0m\u001b[0m\n\u001b[0m\u001b[0;32m    560\u001b[0m                 f'be greater than len(picks) ({len(picks)})')\n\u001b[0;32m    561\u001b[0m \u001b[1;33m\u001b[0m\u001b[0m\n",
      "\u001b[1;31mValueError\u001b[0m: ica.n_components (20) cannot be greater than len(picks) (1)"
     ]
    }
   ],
   "source": [
    "cleaned_ab12_1 = ica.fit(rawab12_1.copy().filter(8, 35))\n",
    "cleaned_ab12_2 = ica.fit(rawab12_2.copy().filter(8, 35))"
   ]
  },
  {
   "cell_type": "code",
   "execution_count": 41,
   "metadata": {},
   "outputs": [
    {
     "name": "stdout",
     "output_type": "stream",
     "text": [
      "Not setting metadata\n",
      "Not setting metadata\n",
      "154 matching events found\n",
      "Setting baseline interval to [-0.2, 0.0] sec\n",
      "Applying baseline correction (mode: mean)\n",
      "0 projection items activated\n"
     ]
    }
   ],
   "source": [
    "epochsab12_1 = mne.Epochs(rawab12_1,\n",
    "                   events = eventsab12_1[0],\n",
    "                   event_id = eventsab12_1[1],)"
   ]
  },
  {
   "cell_type": "code",
   "execution_count": 42,
   "metadata": {},
   "outputs": [
    {
     "name": "stdout",
     "output_type": "stream",
     "text": [
      "Loading data for 154 events and 351 original time points ...\n",
      "0 bad epochs dropped\n",
      "Loading data for 154 events and 351 original time points ...\n",
      "Loading data for 20 events and 351 original time points ...\n"
     ]
    },
    {
     "data": {
      "text/plain": [
       "<MNEBrowseFigure size 1920x864 with 4 Axes>"
      ]
     },
     "execution_count": 42,
     "metadata": {},
     "output_type": "execute_result"
    }
   ],
   "source": [
    "epochsab12_1.plot()"
   ]
  },
  {
   "cell_type": "code",
   "execution_count": 43,
   "metadata": {},
   "outputs": [],
   "source": [
    "#\n",
    "import os\n",
    "from mne.preprocessing import (ICA, create_eog_epochs, create_ecg_epochs,\n",
    "                               corrmap)"
   ]
  },
  {
   "cell_type": "code",
   "execution_count": null,
   "metadata": {},
   "outputs": [],
   "source": []
  }
 ],
 "metadata": {
  "kernelspec": {
   "display_name": "Python 3",
   "language": "python",
   "name": "python3"
  },
  "language_info": {
   "codemirror_mode": {
    "name": "ipython",
    "version": 3
   },
   "file_extension": ".py",
   "mimetype": "text/x-python",
   "name": "python",
   "nbconvert_exporter": "python",
   "pygments_lexer": "ipython3",
   "version": "3.7.6"
  }
 },
 "nbformat": 4,
 "nbformat_minor": 4
}
