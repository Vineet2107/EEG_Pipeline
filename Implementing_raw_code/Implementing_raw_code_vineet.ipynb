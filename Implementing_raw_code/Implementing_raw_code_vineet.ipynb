{
 "cells": [
  {
   "cell_type": "code",
   "execution_count": 5,
   "metadata": {},
   "outputs": [
    {
     "name": "stdout",
     "output_type": "stream",
     "text": [
      "0.22.1\n"
     ]
    }
   ],
   "source": [
    "import matplotlib\n",
    "import pathlib\n",
    "\n",
    "import mne\n",
    "print(mne.__version__)\n",
    "import mne_bids\n",
    "\n",
    "matplotlib.use('Qt5Agg')"
   ]
  },
  {
   "cell_type": "code",
   "execution_count": 6,
   "metadata": {},
   "outputs": [
    {
     "name": "stdout",
     "output_type": "stream",
     "text": [
      "Requirement already satisfied: mne in c:\\users\\asus\\anaconda3\\lib\\site-packages (0.22.1)\n",
      "Requirement already satisfied: numpy>=1.11.3 in c:\\users\\asus\\anaconda3\\lib\\site-packages (from mne) (1.18.1)\n",
      "Requirement already satisfied: scipy>=0.17.1 in c:\\users\\asus\\anaconda3\\lib\\site-packages (from mne) (1.4.1)\n"
     ]
    }
   ],
   "source": [
    "!pip install mne"
   ]
  },
  {
   "cell_type": "code",
   "execution_count": 22,
   "metadata": {},
   "outputs": [],
   "source": [
    "rawab6_1 = mne.io.read_raw_eeglab('sub-AB6_task-gonogo_run-1_eeg.set', eog=(), preload=True, uint16_codec=None, verbose=None)\n",
    "rawab6_2 = mne.io.read_raw_eeglab('sub-AB6_task-gonogo_run-2_eeg.set', eog=(), preload=True, uint16_codec=None, verbose=None)\n",
    "\n",
    "rawab10_1 = mne.io.read_raw_eeglab('sub-AB10_eeg_sub-AB10_task-gonogo_run-1_eeg.set', eog=(), preload=True, uint16_codec=None, verbose=None)\n",
    "#rawab10_2 = mne.io.read_raw_eeglab('sub-AB10_eeg_sub-AB10_task-gonogo_run-2_eeg.set', eog=(), preload=True, uint16_codec=None, verbose=None)\n",
    "\n",
    "rawab11_1 = mne.io.read_raw_eeglab('sub-AB11_eeg_sub-AB11_task-gonogo_run-1_eeg.set', eog=(), preload=True, uint16_codec=None, verbose=None)\n",
    "rawab11_2 = mne.io.read_raw_eeglab('sub-AB11_eeg_sub-AB11_task-gonogo_run-2_eeg.set', eog=(), preload=True, uint16_codec=None, verbose=None)\n",
    "\n",
    "rawab12_1 = mne.io.read_raw_eeglab('sub-AB12_eeg_sub-AB12_task-gonogo_run-1_eeg.set', eog=(), preload=True, uint16_codec=None, verbose=None)\n",
    "rawab12_2 = mne.io.read_raw_eeglab('sub-AB12_eeg_sub-AB12_task-gonogo_run-2_eeg.set', eog=(), preload=True, uint16_codec=None, verbose=None)\n",
    "\n",
    "rawab13_1 = mne.io.read_raw_eeglab('sub-AB13_eeg_sub-AB13_task-gonogo_run-1_eeg.set', eog=(), preload=True, uint16_codec=None, verbose=None)\n",
    "rawab13_2 = mne.io.read_raw_eeglab('sub-AB13_eeg_sub-AB13_task-gonogo_run-2_eeg.set', eog=(), preload=True, uint16_codec=None, verbose=None)"
   ]
  },
  {
   "cell_type": "code",
   "execution_count": 23,
   "metadata": {},
   "outputs": [
    {
     "data": {
      "text/plain": [
       "<MNEBrowseFigure size 1920x864 with 4 Axes>"
      ]
     },
     "execution_count": 23,
     "metadata": {},
     "output_type": "execute_result"
    },
    {
     "name": "stdout",
     "output_type": "stream",
     "text": [
      "Channels marked as bad: ['EKG', 'HEO']\n"
     ]
    }
   ],
   "source": [
    "#rawab6_1.plot()\n",
    "#rawab10_1.plot()\n",
    "rawab12_1.plot()\n",
    "#rawab13_1.plot()"
   ]
  },
  {
   "cell_type": "code",
   "execution_count": 25,
   "metadata": {},
   "outputs": [
    {
     "name": "stdout",
     "output_type": "stream",
     "text": [
      "64\n",
      "The 64 eeg channels indices are:\n",
      "[ 0  1  2  3  4  5  6  7  8  9 10 11 12 13 14 15 16 17 18 19 20 21 22 23\n",
      " 24 25 26 27 28 29 30 31 32 33 34 35 36 37 38 39 40 41 42 43 44 45 46 47\n",
      " 48 49 50 51 52 53 54 55 56 57 58 59 60 61 64 65]\n",
      "66\n",
      "The 66 eeg channels indices are:\n",
      "[ 0  1  2  3  4  5  6  7  8  9 10 11 12 13 14 15 16 17 18 19 20 21 22 23\n",
      " 24 25 26 27 28 29 30 31 32 33 34 35 36 37 38 39 40 41 42 43 44 45 46 47\n",
      " 48 49 50 51 52 53 54 55 56 57 58 59 60 61 62 63 64 65]\n"
     ]
    }
   ],
   "source": [
    "rawab13_2.info\n",
    "# rawab6_2.info\n",
    "channel_indices_ab12_1 = mne.pick_types(rawab12_1.info, eeg=True)\n",
    "channel_indices_ab13_1 = mne.pick_types(rawab13_1.info, eeg=True)\n",
    "print(len(channel_indices_ab12_1))\n",
    "print(f\"The {len(channel_indices_ab12_1)} eeg channels indices are:\\n{channel_indices_ab12_1}\")\n",
    "print(len(channel_indices_ab13_1))\n",
    "print(f\"The {len(channel_indices_ab13_1)} eeg channels indices are:\\n{channel_indices_ab13_1}\")"
   ]
  },
  {
   "cell_type": "code",
   "execution_count": 9,
   "metadata": {},
   "outputs": [
    {
     "name": "stdout",
     "output_type": "stream",
     "text": [
      "Used Annotations descriptions: ['1', '10', '2', '4', '5', '9']\n",
      "Used Annotations descriptions: ['1', '10', '2', '4', '5', '6', '7', '9']\n",
      "Used Annotations descriptions: ['1', '10', '11', '2', '3', '4', '5', '9']\n",
      "Used Annotations descriptions: ['1', '10', '2', '4', '5', '6', '7', '9']\n",
      "Used Annotations descriptions: ['1', '10', '11', '2', '3', '4', '5', '6', '7', '9']\n",
      "Used Annotations descriptions: ['1', '10', '2', '3', '4', '5', '9']\n",
      "Used Annotations descriptions: ['1', '10', '11', '2', '4', '5', '6', '7', '9']\n"
     ]
    }
   ],
   "source": [
    "eventsab6_1 = mne.events_from_annotations(rawab6_1)\n",
    "eventsab6_2 = mne.events_from_annotations(rawab6_2)\n",
    "\n",
    "eventsab10_1 = mne.events_from_annotations(rawab10_1)\n",
    "#eventsab10_2 = mne.events_from_annotations(rawab10_2)\n",
    "\n",
    "eventsab12_1 = mne.events_from_annotations(rawab12_1)\n",
    "eventsab12_2 = mne.events_from_annotations(rawab12_2)\n",
    "\n",
    "eventsab13_1 = mne.events_from_annotations(rawab13_1)\n",
    "eventsab13_2 = mne.events_from_annotations(rawab13_2)\n",
    "\n"
   ]
  },
  {
   "cell_type": "code",
   "execution_count": 10,
   "metadata": {},
   "outputs": [
    {
     "data": {
      "text/plain": [
       "{'taskstart': '9',\n",
       " 'cue': '1',\n",
       " 'go': '2',\n",
       " 'button press': '5',\n",
       " 'no-go': '4',\n",
       " 'task end': '10',\n",
       " 'error 1': '3',\n",
       " 'error 2': '6',\n",
       " 'error 3': '7',\n",
       " 'error 4': '8',\n",
       " 'error 5': '11'}"
      ]
     },
     "execution_count": 10,
     "metadata": {},
     "output_type": "execute_result"
    }
   ],
   "source": [
    "event_id = {\n",
    "    \"taskstart\" : '9',\n",
    "    \"cue\" : \"1\",\n",
    "    \"go\" : \"2\",\n",
    "    \"button press\" : \"5\",\n",
    "    \"no-go\" : \"4\",\n",
    "    \"task end\": \"10\",\n",
    "    \"error 1\" : \"3\",\n",
    "    \"error 2\" : \"6\",\n",
    "    \"error 3\" : \"7\",\n",
    "    \"error 4\" : \"8\",\n",
    "    \"error 5\" : \"11\"\n",
    "}\n",
    "event_id"
   ]
  },
  {
   "cell_type": "code",
   "execution_count": 11,
   "metadata": {},
   "outputs": [
    {
     "data": {
      "text/plain": [
       "<RawEEGLAB | sub-AB13_eeg_sub-AB13_task-gonogo_run-2_eeg.set, 63 x 251200 (502.4 s), ~120.8 MB, data loaded>"
      ]
     },
     "execution_count": 11,
     "metadata": {},
     "output_type": "execute_result"
    }
   ],
   "source": [
    "rawab6_1.drop_channels(ch_names = \"EKG\")\n",
    "rawab6_2.drop_channels(ch_names = \"EKG\")\n",
    "\n",
    "rawab10_1.drop_channels(ch_names = [\"EKG\", \"R-Dia-X-(mm)\", \"R-Dia-Y-(mm)\"])\n",
    "#rawab10_2.drop_channels(ch_names = [\"EKG\", \"R-Dia-X-(mm)\", \"R-Dia-Y-(mm)\"])\n",
    "\n",
    "rawab12_1.drop_channels(ch_names = [\"EKG\", \"R-Dia-X-(mm)\", \"R-Dia-Y-(mm)\"])\n",
    "rawab12_2.drop_channels(ch_names = [\"EKG\", \"R-Dia-X-(mm)\", \"R-Dia-Y-(mm)\"])\n",
    "\n",
    "rawab13_1.drop_channels(ch_names = [\"EKG\", \"R-Dia-X-(mm)\", \"R-Dia-Y-(mm)\"])\n",
    "rawab13_2.drop_channels(ch_names = [\"EKG\", \"R-Dia-X-(mm)\", \"R-Dia-Y-(mm)\"])"
   ]
  },
  {
   "cell_type": "code",
   "execution_count": 12,
   "metadata": {},
   "outputs": [],
   "source": [
    "rawab6_1.plot_sensors(ch_type = 'eeg', sphere = 10);\n",
    "#rawab6_2.plot_sensors(ch_type = 'eeg', sphere = 10);\n",
    "\n",
    "rawab10_1.plot_sensors(ch_type = 'eeg', sphere = 10);\n",
    "# rawab10_2.plot_sensors(ch_type = 'eeg', sphere = 10);\n",
    "\n",
    "rawab12_1.plot_sensors(ch_type = 'eeg', sphere = 10);\n",
    "# rawab12_2.plot_sensors(ch_type = 'eeg', sphere = 10);\n",
    "\n",
    "rawab13_1.plot_sensors(ch_type = 'eeg', sphere = 10);\n",
    "# rawab13_2.plot_sensors(ch_type = 'eeg', sphere = 10);"
   ]
  },
  {
   "cell_type": "code",
   "execution_count": 13,
   "metadata": {},
   "outputs": [],
   "source": [
    "rawab6_1.plot_sensors(ch_type = 'eeg', kind = '3d');\n",
    "# rawab6_2.plot_sensors(ch_type = 'eeg', kind = '3d');\n",
    "\n",
    "rawab10_1.plot_sensors(ch_type = 'eeg', kind = '3d');\n",
    "# rawab10_2.plot_sensors(ch_type = 'eeg', kind = '3d');\n",
    "\n",
    "rawab12_1.plot_sensors(ch_type = 'eeg', kind = '3d');\n",
    "# rawab12_2.plot_sensors(ch_type = 'eeg', kind = '3d');\n",
    "\n",
    "rawab13_1.plot_sensors(ch_type = 'eeg', kind = '3d');\n",
    "# rawab13_2.plot_sensors(ch_type = 'eeg', kind = '3d');"
   ]
  },
  {
   "cell_type": "code",
   "execution_count": 14,
   "metadata": {},
   "outputs": [],
   "source": [
    "ica = mne.preprocessing.ICA(n_components = 20, random_state = 42)"
   ]
  },
  {
   "cell_type": "code",
   "execution_count": 15,
   "metadata": {},
   "outputs": [],
   "source": [
    "ica.exclude = [11, 14, 19]"
   ]
  },
  {
   "cell_type": "code",
   "execution_count": 16,
   "metadata": {},
   "outputs": [],
   "source": [
    "ica = mne.preprocessing.ICA(n_components = 20, random_state = 42)"
   ]
  },
  {
   "cell_type": "code",
   "execution_count": 17,
   "metadata": {},
   "outputs": [
    {
     "name": "stdout",
     "output_type": "stream",
     "text": [
      "Filtering raw data in 1 contiguous segment\n",
      "Setting up band-pass filter from 8 - 35 Hz\n",
      "\n",
      "FIR filter parameters\n",
      "---------------------\n",
      "Designing a one-pass, zero-phase, non-causal bandpass filter:\n",
      "- Windowed time-domain design (firwin) method\n",
      "- Hamming window with 0.0194 passband ripple and 53 dB stopband attenuation\n",
      "- Lower passband edge: 8.00\n",
      "- Lower transition bandwidth: 2.00 Hz (-6 dB cutoff frequency: 7.00 Hz)\n",
      "- Upper passband edge: 35.00 Hz\n",
      "- Upper transition bandwidth: 8.75 Hz (-6 dB cutoff frequency: 39.38 Hz)\n",
      "- Filter length: 825 samples (1.650 sec)\n",
      "\n",
      "Fitting ICA to data using 63 channels (please be patient, this may take a while)\n",
      "Selecting by number: 20 components\n",
      "Fitting ICA took 9.5s.\n",
      "Filtering raw data in 1 contiguous segment\n",
      "Setting up band-pass filter from 8 - 35 Hz\n",
      "\n",
      "FIR filter parameters\n",
      "---------------------\n",
      "Designing a one-pass, zero-phase, non-causal bandpass filter:\n",
      "- Windowed time-domain design (firwin) method\n",
      "- Hamming window with 0.0194 passband ripple and 53 dB stopband attenuation\n",
      "- Lower passband edge: 8.00\n",
      "- Lower transition bandwidth: 2.00 Hz (-6 dB cutoff frequency: 7.00 Hz)\n",
      "- Upper passband edge: 35.00 Hz\n",
      "- Upper transition bandwidth: 8.75 Hz (-6 dB cutoff frequency: 39.38 Hz)\n",
      "- Filter length: 825 samples (1.650 sec)\n",
      "\n",
      "Fitting ICA to data using 63 channels (please be patient, this may take a while)\n",
      "Selecting by number: 20 components\n",
      "Fitting ICA took 6.5s.\n"
     ]
    }
   ],
   "source": [
    "cleaned_ab6_1 = ica.fit(rawab6_1.copy().filter(8, 35))\n",
    "cleaned_ab6_2 = ica.fit(rawab6_2.copy().filter(8, 35))"
   ]
  },
  {
   "cell_type": "code",
   "execution_count": 19,
   "metadata": {},
   "outputs": [
    {
     "data": {
      "text/plain": [
       "[<MNEFigure size 1924x1014 with 20 Axes>]"
      ]
     },
     "execution_count": 19,
     "metadata": {},
     "output_type": "execute_result"
    }
   ],
   "source": [
    "ica.plot_components(outlines = 'head', sphere = 10, ch_type = 'eeg')\n"
   ]
  },
  {
   "cell_type": "code",
   "execution_count": 20,
   "metadata": {},
   "outputs": [
    {
     "ename": "AttributeError",
     "evalue": "'ICA' object has no attribute 'plot'",
     "output_type": "error",
     "traceback": [
      "\u001b[1;31m---------------------------------------------------------------------------\u001b[0m",
      "\u001b[1;31mAttributeError\u001b[0m                            Traceback (most recent call last)",
      "\u001b[1;32m<ipython-input-20-70f1ef83ca8c>\u001b[0m in \u001b[0;36m<module>\u001b[1;34m\u001b[0m\n\u001b[1;32m----> 1\u001b[1;33m \u001b[0mcleaned_ab6_1\u001b[0m\u001b[1;33m.\u001b[0m\u001b[0mplot\u001b[0m\u001b[1;33m(\u001b[0m\u001b[1;33m)\u001b[0m\u001b[1;33m;\u001b[0m\u001b[1;33m\u001b[0m\u001b[1;33m\u001b[0m\u001b[0m\n\u001b[0m\u001b[0;32m      2\u001b[0m \u001b[0mcleaned_ab6_2\u001b[0m\u001b[1;33m.\u001b[0m\u001b[0mplot\u001b[0m\u001b[1;33m(\u001b[0m\u001b[1;33m)\u001b[0m\u001b[1;33m;\u001b[0m\u001b[1;33m\u001b[0m\u001b[1;33m\u001b[0m\u001b[0m\n",
      "\u001b[1;31mAttributeError\u001b[0m: 'ICA' object has no attribute 'plot'"
     ]
    }
   ],
   "source": [
    "cleaned_ab6_1.plot();\n",
    "cleaned_ab6_2.plot();"
   ]
  },
  {
   "cell_type": "code",
   "execution_count": 21,
   "metadata": {},
   "outputs": [
    {
     "ename": "NameError",
     "evalue": "name 'evoked2' is not defined",
     "output_type": "error",
     "traceback": [
      "\u001b[1;31m---------------------------------------------------------------------------\u001b[0m",
      "\u001b[1;31mNameError\u001b[0m                                 Traceback (most recent call last)",
      "\u001b[1;32m<ipython-input-21-d20ec81f0b58>\u001b[0m in \u001b[0;36m<module>\u001b[1;34m\u001b[0m\n\u001b[1;32m----> 1\u001b[1;33m \u001b[0mevoked2\u001b[0m\u001b[1;33m.\u001b[0m\u001b[0mplot_topomap\u001b[0m\u001b[1;33m(\u001b[0m\u001b[0mch_type\u001b[0m \u001b[1;33m=\u001b[0m \u001b[1;34m'eeg'\u001b[0m\u001b[1;33m)\u001b[0m\u001b[1;33m\u001b[0m\u001b[1;33m\u001b[0m\u001b[0m\n\u001b[0m",
      "\u001b[1;31mNameError\u001b[0m: name 'evoked2' is not defined"
     ]
    }
   ],
   "source": [
    "evoked2.plot_topomap(ch_type = 'eeg')\n"
   ]
  },
  {
   "cell_type": "code",
   "execution_count": null,
   "metadata": {},
   "outputs": [],
   "source": []
  }
 ],
 "metadata": {
  "kernelspec": {
   "display_name": "Python 3",
   "language": "python",
   "name": "python3"
  },
  "language_info": {
   "codemirror_mode": {
    "name": "ipython",
    "version": 3
   },
   "file_extension": ".py",
   "mimetype": "text/x-python",
   "name": "python",
   "nbconvert_exporter": "python",
   "pygments_lexer": "ipython3",
   "version": "3.7.6"
  }
 },
 "nbformat": 4,
 "nbformat_minor": 4
}
