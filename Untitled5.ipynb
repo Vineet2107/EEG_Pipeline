{
  "nbformat": 4,
  "nbformat_minor": 0,
  "metadata": {
    "colab": {
      "name": "Untitled5.ipynb",
      "provenance": [],
      "mount_file_id": "1Kxwp1-yxsIqxQ9uilaTYwF-_5Yp7V74B",
      "authorship_tag": "ABX9TyOtB76H9I1EjivevKZxNC5E",
      "include_colab_link": true
    },
    "kernelspec": {
      "name": "python3",
      "display_name": "Python 3"
    },
    "language_info": {
      "name": "python"
    }
  },
  "cells": [
    {
      "cell_type": "markdown",
      "metadata": {
        "id": "view-in-github",
        "colab_type": "text"
      },
      "source": [
        "<a href=\"https://colab.research.google.com/github/Vineet2107/EEG_Pipeline/blob/main/Untitled5.ipynb\" target=\"_parent\"><img src=\"https://colab.research.google.com/assets/colab-badge.svg\" alt=\"Open In Colab\"/></a>"
      ]
    },
    {
      "cell_type": "code",
      "metadata": {
        "id": "T8YQedzCTLdr"
      },
      "source": [
        "import tensorflow as tf\n",
        "from tensorflow.keras.layers import Dense, Flatten, Conv2D,MaxPooling2D\n",
        "from tensorflow.keras import Model\n",
        "import numpy as np\n",
        "import matplotlib.pyplot as plt\n",
        "import pandas as pd\n"
      ],
      "execution_count": 2,
      "outputs": []
    },
    {
      "cell_type": "code",
      "metadata": {
        "id": "eFfQX3-DcGQ3",
        "outputId": "2737ce2c-831f-4461-a2f4-9b1cee427650",
        "colab": {
          "base_uri": "https://localhost:8080/"
        }
      },
      "source": [
        "from keras.datasets import mnist\n",
        "(x_train, y_train), (x_test, y_test) = mnist.load_data()\n",
        "x_train, x_test = x_train / 255.0, x_test / 255.0"
      ],
      "execution_count": 3,
      "outputs": [
        {
          "output_type": "stream",
          "text": [
            "Downloading data from https://storage.googleapis.com/tensorflow/tf-keras-datasets/mnist.npz\n",
            "11493376/11490434 [==============================] - 0s 0us/step\n",
            "11501568/11490434 [==============================] - 0s 0us/step\n"
          ],
          "name": "stdout"
        }
      ]
    },
    {
      "cell_type": "code",
      "metadata": {
        "colab": {
          "base_uri": "https://localhost:8080/",
          "height": 282
        },
        "id": "LYO5LoNlcjbC",
        "outputId": "e20f322b-0c43-460f-82ae-31220e8e54eb"
      },
      "source": [
        "plt.imshow(x_train[0])"
      ],
      "execution_count": 4,
      "outputs": [
        {
          "output_type": "execute_result",
          "data": {
            "text/plain": [
              "<matplotlib.image.AxesImage at 0x7f038582ced0>"
            ]
          },
          "metadata": {
            "tags": []
          },
          "execution_count": 4
        },
        {
          "output_type": "display_data",
          "data": {
            "image/png": "[encoded data removed]",
            "text/plain": [
              "<Figure size 432x288 with 1 Axes>"
            ]
          },
          "metadata": {
            "tags": [],
            "needs_background": "light"
          }
        }
      ]
    },
    {
      "cell_type": "code",
      "metadata": {
        "colab": {
          "base_uri": "https://localhost:8080/"
        },
        "id": "BJiRIGh_bsK5",
        "outputId": "f5c69469-fb3e-41d6-9021-4386687ebfd6"
      },
      "source": [
        "print(x_train[0].shape)\n",
        "x_train=x_train[..., np.newaxis]\n",
        "print(x_train[0].shape)"
      ],
      "execution_count": 14,
      "outputs": [
        {
          "output_type": "stream",
          "text": [
            "(28, 28)\n",
            "(28, 28, 1)\n"
          ],
          "name": "stdout"
        }
      ]
    },
    {
      "cell_type": "code",
      "metadata": {
        "id": "KflNBOrHfNWD",
        "colab": {
          "base_uri": "https://localhost:8080/"
        },
        "outputId": "ad7e76ec-6ab3-46da-e0cf-be0e6ac4cc9c"
      },
      "source": [
        "model = tf.keras.Sequential()\n",
        "model.add(Conv2D(32, 3,strides=(2,2), activation = \"relu\",input_shape=(28, 28,1)))\n",
        "model.add(MaxPooling2D(2,2))\n",
        "model.add(Conv2D(32, 3, activation=\"relu\"))\n",
        "model.add(Conv2D(32, 3, activation=\"relu\"))\n",
        "model.add(MaxPooling2D(2,2))\n",
        "model.add(Flatten())\n",
        "model.add(Dense(128, activation='relu'))\n",
        "model.add(Dense(10, activation='softmax'))\n",
        "model.summary()\n"
      ],
      "execution_count": 20,
      "outputs": [
        {
          "output_type": "stream",
          "text": [
            "Model: \"sequential_4\"\n",
            "_________________________________________________________________\n",
            "Layer (type)                 Output Shape              Param #   \n",
            "=================================================================\n",
            "conv2d_10 (Conv2D)           (None, 13, 13, 32)        320       \n",
            "_________________________________________________________________\n",
            "max_pooling2d_6 (MaxPooling2 (None, 6, 6, 32)          0         \n",
            "_________________________________________________________________\n",
            "conv2d_11 (Conv2D)           (None, 4, 4, 32)          9248      \n",
            "_________________________________________________________________\n",
            "conv2d_12 (Conv2D)           (None, 2, 2, 32)          9248      \n",
            "_________________________________________________________________\n",
            "max_pooling2d_7 (MaxPooling2 (None, 1, 1, 32)          0         \n",
            "_________________________________________________________________\n",
            "flatten_3 (Flatten)          (None, 32)                0         \n",
            "_________________________________________________________________\n",
            "dense_6 (Dense)              (None, 128)               4224      \n",
            "_________________________________________________________________\n",
            "dense_7 (Dense)              (None, 10)                1290      \n",
            "=================================================================\n",
            "Total params: 24,330\n",
            "Trainable params: 24,330\n",
            "Non-trainable params: 0\n",
            "_________________________________________________________________\n"
          ],
          "name": "stdout"
        }
      ]
    },
    {
      "cell_type": "code",
      "metadata": {
        "id": "OLr_sny81bgU",
        "colab": {
          "base_uri": "https://localhost:8080/"
        },
        "outputId": "612e92bb-9a09-4797-93ad-94e64582e319"
      },
      "source": [
        "\n",
        "model.compile(optimizer=tf.keras.optimizers.Adam(lr=0.001), loss=tf.keras.losses.SparseCategoricalCrossentropy(from_logits=True), metrics=['acc'])"
      ],
      "execution_count": 24,
      "outputs": [
        {
          "output_type": "stream",
          "text": [
            "/usr/local/lib/python3.7/dist-packages/tensorflow/python/keras/optimizer_v2/optimizer_v2.py:375: UserWarning: The `lr` argument is deprecated, use `learning_rate` instead.\n",
            "  \"The `lr` argument is deprecated, use `learning_rate` instead.\")\n"
          ],
          "name": "stderr"
        }
      ]
    },
    {
      "cell_type": "code",
      "metadata": {
        "id": "XIcQIQ-5_FjI",
        "colab": {
          "base_uri": "https://localhost:8080/"
        },
        "outputId": "bc4d9722-1303-4cfa-e709-777d661ce7c7"
      },
      "source": [
        "\n",
        "history= model.fit(x_train, y_train, batch_size=128, epochs=30)"
      ],
      "execution_count": null,
      "outputs": [
        {
          "output_type": "stream",
          "text": [
            "Epoch 1/20\n"
          ],
          "name": "stdout"
        },
        {
          "output_type": "stream",
          "text": [
            "/usr/local/lib/python3.7/dist-packages/tensorflow/python/keras/backend.py:4930: UserWarning: \"`sparse_categorical_crossentropy` received `from_logits=True`, but the `output` argument was produced by a sigmoid or softmax activation and thus does not represent logits. Was this intended?\"\n",
            "  '\"`sparse_categorical_crossentropy` received `from_logits=True`, but '\n"
          ],
          "name": "stderr"
        },
        {
          "output_type": "stream",
          "text": [
            "469/469 [==============================] - 9s 18ms/step - loss: 0.0075 - acc: 0.9974\n",
            "Epoch 2/20\n",
            "469/469 [==============================] - 9s 18ms/step - loss: 0.0075 - acc: 0.9975\n",
            "Epoch 3/20\n",
            "469/469 [==============================] - 9s 18ms/step - loss: 0.0044 - acc: 0.9985\n",
            "Epoch 4/20\n",
            "469/469 [==============================] - 9s 18ms/step - loss: 0.0049 - acc: 0.9983\n",
            "Epoch 5/20\n",
            "469/469 [==============================] - 9s 18ms/step - loss: 0.0067 - acc: 0.9975\n",
            "Epoch 6/20\n",
            "469/469 [==============================] - 8s 18ms/step - loss: 0.0049 - acc: 0.9983\n",
            "Epoch 7/20\n",
            "469/469 [==============================] - 8s 18ms/step - loss: 0.0051 - acc: 0.9983\n",
            "Epoch 8/20\n",
            "469/469 [==============================] - 8s 18ms/step - loss: 0.0035 - acc: 0.9989\n",
            "Epoch 9/20\n",
            "469/469 [==============================] - 8s 18ms/step - loss: 0.0045 - acc: 0.9986\n",
            "Epoch 10/20\n",
            "469/469 [==============================] - 8s 18ms/step - loss: 0.0073 - acc: 0.9975\n",
            "Epoch 11/20\n",
            "469/469 [==============================] - 8s 18ms/step - loss: 0.0047 - acc: 0.9981\n",
            "Epoch 12/20\n",
            "238/469 [==============>...............] - ETA: 4s - loss: 0.0042 - acc: 0.9984"
          ],
          "name": "stdout"
        }
      ]
    },
    {
      "cell_type": "code",
      "metadata": {
        "id": "xPEuzUBe_g5X"
      },
      "source": [
        ""
      ],
      "execution_count": null,
      "outputs": []
    }
  ]
}