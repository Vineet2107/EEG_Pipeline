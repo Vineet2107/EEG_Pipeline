{
  "nbformat": 4,
  "nbformat_minor": 0,
  "metadata": {
    "colab": {
      "name": "Untitled5.ipynb",
      "provenance": [],
      "mount_file_id": "1Kxwp1-yxsIqxQ9uilaTYwF-_5Yp7V74B",
      "authorship_tag": "ABX9TyMnMoIiL6cG5TettQMojvDn",
      "include_colab_link": true
    },
    "kernelspec": {
      "name": "python3",
      "display_name": "Python 3"
    },
    "language_info": {
      "name": "python"
    }
  },
  "cells": [
    {
      "cell_type": "markdown",
      "metadata": {
        "id": "view-in-github",
        "colab_type": "text"
      },
      "source": [
        "<a href=\"https://colab.research.google.com/github/Vineet2107/EEG_Pipeline/blob/main/Untitled5.ipynb\" target=\"_parent\"><img src=\"https://colab.research.google.com/assets/colab-badge.svg\" alt=\"Open In Colab\"/></a>"
      ]
    },
    {
      "cell_type": "code",
      "metadata": {
        "id": "T8YQedzCTLdr"
      },
      "source": [
        "import tensorflow as tf\n",
        "from tensorflow.keras.layers import Dense, Flatten, Conv2D,MaxPooling2D, Layer\n",
        "from tensorflow.keras import Model\n",
        "import numpy as np\n",
        "import matplotlib.pyplot as plt\n",
        "import pandas as pd\n"
      ],
      "execution_count": 1,
      "outputs": []
    },
    {
      "cell_type": "code",
      "metadata": {
        "id": "eFfQX3-DcGQ3",
        "colab": {
          "base_uri": "https://localhost:8080/"
        },
        "outputId": "9c9f17a4-acf1-45da-c228-ef822d3e676c"
      },
      "source": [
        "from keras.datasets import mnist\n",
        "(x_train, y_train), (x_test, y_test) = mnist.load_data()\n",
        "x_train, x_test = x_train / 255.0, x_test / 255.0"
      ],
      "execution_count": 2,
      "outputs": [
        {
          "output_type": "stream",
          "text": [
            "Downloading data from https://storage.googleapis.com/tensorflow/tf-keras-datasets/mnist.npz\n",
            "11493376/11490434 [==============================] - 0s 0us/step\n",
            "11501568/11490434 [==============================] - 0s 0us/step\n"
          ],
          "name": "stdout"
        }
      ]
    },
    {
      "cell_type": "code",
      "metadata": {
        "colab": {
          "base_uri": "https://localhost:8080/",
          "height": 282
        },
        "id": "LYO5LoNlcjbC",
        "outputId": "a8bd14e4-e4dd-4a6c-a85c-cb51aabcdd5e"
      },
      "source": [
        "plt.imshow(x_train[0])"
      ],
      "execution_count": 3,
      "outputs": [
        {
          "output_type": "execute_result",
          "data": {
            "text/plain": [
              "<matplotlib.image.AxesImage at 0x7ff9c256f610>"
            ]
          },
          "metadata": {
            "tags": []
          },
          "execution_count": 3
        },
        {
          "output_type": "display_data",
          "data": {
            "image/png": "[encoded data removed]",
            "text/plain": [
              "<Figure size 432x288 with 1 Axes>"
            ]
          },
          "metadata": {
            "tags": [],
            "needs_background": "light"
          }
        }
      ]
    },
    {
      "cell_type": "code",
      "metadata": {
        "colab": {
          "base_uri": "https://localhost:8080/"
        },
        "id": "BJiRIGh_bsK5",
        "outputId": "14fba6ce-6a4b-475d-d39c-ff49308e09ad"
      },
      "source": [
        "print(x_train[0].shape)\n",
        "x_train=x_train[..., np.newaxis]\n",
        "print(x_train[0].shape)"
      ],
      "execution_count": 4,
      "outputs": [
        {
          "output_type": "stream",
          "text": [
            "(28, 28)\n",
            "(28, 28, 1)\n"
          ],
          "name": "stdout"
        }
      ]
    },
    {
      "cell_type": "code",
      "metadata": {
        "id": "Bj1y-edshJJv"
      },
      "source": [
        "class MyLayer(Layer):\n",
        "  def __init__(self, units, input_dim):\n",
        "    super(MyLayer, self).__init__()\n",
        "    self.w = self.add_weight(shape=(input_dim, units), initializer='random_normal')\n",
        "    self.b = self.add_weight(shape=(units,), initializer='zeros')\n",
        "\n",
        "    def call(self, input):\n",
        "      return t.matmul(inputs, self.w) + self.b"
      ],
      "execution_count": 5,
      "outputs": []
    },
    {
      "cell_type": "code",
      "metadata": {
        "id": "KflNBOrHfNWD",
        "colab": {
          "base_uri": "https://localhost:8080/"
        },
        "outputId": "8dbb4665-19d8-42f9-9ff0-e6842a597c01"
      },
      "source": [
        "model = tf.keras.Sequential()\n",
        "model.add(Conv2D(32, 3,strides=(2,2), activation = \"relu\",input_shape=(28, 28,1)))\n",
        "model.add(MaxPooling2D(2,2))\n",
        "model.add(Conv2D(32, 3, activation=\"relu\"))\n",
        "model.add(Conv2D(32, 3, activation=\"relu\"))\n",
        "model.add(MaxPooling2D(2,2))\n",
        "model.add(Flatten())\n",
        "model.add(Dense(128, activation='relu'))\n",
        "model.add(MyLayer(10, 128))\n",
        "model.add(Dense(10, activation='softmax'))\n",
        "model.summary()\n"
      ],
      "execution_count": 12,
      "outputs": [
        {
          "output_type": "stream",
          "text": [
            "Model: \"sequential_1\"\n",
            "_________________________________________________________________\n",
            "Layer (type)                 Output Shape              Param #   \n",
            "=================================================================\n",
            "conv2d_3 (Conv2D)            (None, 13, 13, 32)        320       \n",
            "_________________________________________________________________\n",
            "max_pooling2d_2 (MaxPooling2 (None, 6, 6, 32)          0         \n",
            "_________________________________________________________________\n",
            "conv2d_4 (Conv2D)            (None, 4, 4, 32)          9248      \n",
            "_________________________________________________________________\n",
            "conv2d_5 (Conv2D)            (None, 2, 2, 32)          9248      \n",
            "_________________________________________________________________\n",
            "max_pooling2d_3 (MaxPooling2 (None, 1, 1, 32)          0         \n",
            "_________________________________________________________________\n",
            "flatten_1 (Flatten)          (None, 32)                0         \n",
            "_________________________________________________________________\n",
            "my_layer_1 (MyLayer)         (None, 32)                4224      \n",
            "_________________________________________________________________\n",
            "my_layer_2 (MyLayer)         (None, 32)                1290      \n",
            "_________________________________________________________________\n",
            "dense_2 (Dense)              (None, 10)                330       \n",
            "=================================================================\n",
            "Total params: 24,660\n",
            "Trainable params: 24,660\n",
            "Non-trainable params: 0\n",
            "_________________________________________________________________\n"
          ],
          "name": "stdout"
        }
      ]
    },
    {
      "cell_type": "code",
      "metadata": {
        "id": "OLr_sny81bgU",
        "colab": {
          "base_uri": "https://localhost:8080/"
        },
        "outputId": "9be492c7-78d7-4d56-c9dd-f32c8f6fe393"
      },
      "source": [
        ""
      ],
      "execution_count": 7,
      "outputs": [
        {
          "output_type": "stream",
          "text": [
            "/usr/local/lib/python3.7/dist-packages/tensorflow/python/keras/optimizer_v2/optimizer_v2.py:375: UserWarning: The `lr` argument is deprecated, use `learning_rate` instead.\n",
            "  \"The `lr` argument is deprecated, use `learning_rate` instead.\")\n"
          ],
          "name": "stderr"
        }
      ]
    },
    {
      "cell_type": "code",
      "metadata": {
        "id": "XIcQIQ-5_FjI",
        "colab": {
          "base_uri": "https://localhost:8080/"
        },
        "outputId": "0025e9db-24a2-4230-91c2-c4249299bc19"
      },
      "source": [
        "\n",
        "history= model.fit(x_train, y_train, batch_size=128, epochs=30)"
      ],
      "execution_count": 8,
      "outputs": [
        {
          "output_type": "stream",
          "text": [
            "Epoch 1/30\n",
            "WARNING:tensorflow:Gradients do not exist for variables ['Variable:0', 'Variable:0'] when minimizing the loss.\n"
          ],
          "name": "stdout"
        },
        {
          "output_type": "stream",
          "text": [
            "/usr/local/lib/python3.7/dist-packages/tensorflow/python/keras/backend.py:4930: UserWarning: \"`sparse_categorical_crossentropy` received `from_logits=True`, but the `output` argument was produced by a sigmoid or softmax activation and thus does not represent logits. Was this intended?\"\n",
            "  '\"`sparse_categorical_crossentropy` received `from_logits=True`, but '\n"
          ],
          "name": "stderr"
        },
        {
          "output_type": "stream",
          "text": [
            "WARNING:tensorflow:Gradients do not exist for variables ['Variable:0', 'Variable:0'] when minimizing the loss.\n",
            "469/469 [==============================] - 10s 20ms/step - loss: 0.4494 - acc: 0.8660\n",
            "Epoch 2/30\n",
            "469/469 [==============================] - 9s 20ms/step - loss: 0.1379 - acc: 0.9571\n",
            "Epoch 3/30\n",
            "469/469 [==============================] - 9s 20ms/step - loss: 0.0974 - acc: 0.9703\n",
            "Epoch 4/30\n",
            "469/469 [==============================] - 9s 20ms/step - loss: 0.0791 - acc: 0.9761\n",
            "Epoch 5/30\n",
            "469/469 [==============================] - 9s 20ms/step - loss: 0.0638 - acc: 0.9803\n",
            "Epoch 6/30\n",
            "469/469 [==============================] - 9s 20ms/step - loss: 0.0554 - acc: 0.9827\n",
            "Epoch 7/30\n",
            "469/469 [==============================] - 9s 20ms/step - loss: 0.0499 - acc: 0.9843\n",
            "Epoch 8/30\n",
            "469/469 [==============================] - 9s 20ms/step - loss: 0.0429 - acc: 0.9863\n",
            "Epoch 9/30\n",
            "469/469 [==============================] - 9s 20ms/step - loss: 0.0394 - acc: 0.9878\n",
            "Epoch 10/30\n",
            "469/469 [==============================] - 9s 20ms/step - loss: 0.0341 - acc: 0.9893\n",
            "Epoch 11/30\n",
            "469/469 [==============================] - 9s 20ms/step - loss: 0.0320 - acc: 0.9898\n",
            "Epoch 12/30\n",
            "469/469 [==============================] - 10s 20ms/step - loss: 0.0283 - acc: 0.9911\n",
            "Epoch 13/30\n",
            "469/469 [==============================] - 10s 20ms/step - loss: 0.0259 - acc: 0.9917\n",
            "Epoch 14/30\n",
            "469/469 [==============================] - 10s 20ms/step - loss: 0.0226 - acc: 0.9927\n",
            "Epoch 15/30\n",
            "469/469 [==============================] - 10s 20ms/step - loss: 0.0236 - acc: 0.9919\n",
            "Epoch 16/30\n",
            "469/469 [==============================] - 10s 20ms/step - loss: 0.0188 - acc: 0.9937\n",
            "Epoch 17/30\n",
            "469/469 [==============================] - 10s 20ms/step - loss: 0.0170 - acc: 0.9944\n",
            "Epoch 18/30\n",
            "469/469 [==============================] - 9s 20ms/step - loss: 0.0170 - acc: 0.9944\n",
            "Epoch 19/30\n",
            "469/469 [==============================] - 10s 20ms/step - loss: 0.0141 - acc: 0.9951\n",
            "Epoch 20/30\n",
            "469/469 [==============================] - 10s 20ms/step - loss: 0.0129 - acc: 0.9959\n",
            "Epoch 21/30\n",
            "469/469 [==============================] - 9s 20ms/step - loss: 0.0137 - acc: 0.9954\n",
            "Epoch 22/30\n",
            "469/469 [==============================] - 10s 20ms/step - loss: 0.0122 - acc: 0.9957\n",
            "Epoch 23/30\n",
            "469/469 [==============================] - 10s 20ms/step - loss: 0.0110 - acc: 0.9963\n",
            "Epoch 24/30\n",
            "469/469 [==============================] - 9s 20ms/step - loss: 0.0107 - acc: 0.9963\n",
            "Epoch 25/30\n",
            "469/469 [==============================] - 9s 20ms/step - loss: 0.0082 - acc: 0.9972\n",
            "Epoch 26/30\n",
            "469/469 [==============================] - 9s 20ms/step - loss: 0.0105 - acc: 0.9964\n",
            "Epoch 27/30\n",
            "469/469 [==============================] - 9s 20ms/step - loss: 0.0095 - acc: 0.9964\n",
            "Epoch 28/30\n",
            "469/469 [==============================] - 10s 20ms/step - loss: 0.0056 - acc: 0.9983\n",
            "Epoch 29/30\n",
            "469/469 [==============================] - 10s 20ms/step - loss: 0.0064 - acc: 0.9978\n",
            "Epoch 30/30\n",
            "469/469 [==============================] - 9s 20ms/step - loss: 0.0099 - acc: 0.9963\n"
          ],
          "name": "stdout"
        }
      ]
    },
    {
      "cell_type": "code",
      "metadata": {
        "id": "xPEuzUBe_g5X",
        "outputId": "791dffc5-c7d2-4dc4-b964-23932f068cd3",
        "colab": {
          "base_uri": "https://localhost:8080/"
        }
      },
      "source": [
        "for i in range(9):\n",
        "  print(model.layers[i].output)\n",
        "\n"
      ],
      "execution_count": 11,
      "outputs": [
        {
          "output_type": "stream",
          "text": [
            "KerasTensor(type_spec=TensorSpec(shape=(None, 13, 13, 32), dtype=tf.float32, name=None), name='conv2d/Relu:0', description=\"created by layer 'conv2d'\")\n",
            "KerasTensor(type_spec=TensorSpec(shape=(None, 6, 6, 32), dtype=tf.float32, name=None), name='max_pooling2d/MaxPool:0', description=\"created by layer 'max_pooling2d'\")\n",
            "KerasTensor(type_spec=TensorSpec(shape=(None, 4, 4, 32), dtype=tf.float32, name=None), name='conv2d_1/Relu:0', description=\"created by layer 'conv2d_1'\")\n",
            "KerasTensor(type_spec=TensorSpec(shape=(None, 2, 2, 32), dtype=tf.float32, name=None), name='conv2d_2/Relu:0', description=\"created by layer 'conv2d_2'\")\n",
            "KerasTensor(type_spec=TensorSpec(shape=(None, 1, 1, 32), dtype=tf.float32, name=None), name='max_pooling2d_1/MaxPool:0', description=\"created by layer 'max_pooling2d_1'\")\n",
            "KerasTensor(type_spec=TensorSpec(shape=(None, 32), dtype=tf.float32, name=None), name='flatten/Reshape:0', description=\"created by layer 'flatten'\")\n",
            "KerasTensor(type_spec=TensorSpec(shape=(None, 128), dtype=tf.float32, name=None), name='dense/Relu:0', description=\"created by layer 'dense'\")\n",
            "KerasTensor(type_spec=TensorSpec(shape=(None, 128), dtype=tf.float32, name=None), name='Placeholder:0', description=\"created by layer 'my_layer'\")\n",
            "KerasTensor(type_spec=TensorSpec(shape=(None, 10), dtype=tf.float32, name=None), name='dense_1/Softmax:0', description=\"created by layer 'dense_1'\")\n"
          ],
          "name": "stdout"
        }
      ]
    },
    {
      "cell_type": "code",
      "metadata": {
        "id": "kuH1BNoqpsBq"
      },
      "source": [
        ""
      ],
      "execution_count": null,
      "outputs": []
    }
  ]
}